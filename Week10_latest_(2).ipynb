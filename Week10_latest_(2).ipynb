{
  "nbformat": 4,
  "nbformat_minor": 0,
  "metadata": {
    "colab": {
      "name": "Week10_latest (2).ipynb",
      "provenance": [],
      "collapsed_sections": []
    },
    "kernelspec": {
      "display_name": "Python 3 (ipykernel)",
      "language": "python",
      "name": "python3"
    },
    "language_info": {
      "codemirror_mode": {
        "name": "ipython",
        "version": 3
      },
      "file_extension": ".py",
      "mimetype": "text/x-python",
      "name": "python",
      "nbconvert_exporter": "python",
      "pygments_lexer": "ipython3",
      "version": "3.8.2"
    }
  },
  "cells": [
    {
      "cell_type": "markdown",
      "metadata": {
        "id": "yaWHCtbOwbor"
      },
      "source": [
        "## **How to increase Cross-Selling of Banking Products**\n",
        "\n",
        "\n"
      ]
    },
    {
      "cell_type": "markdown",
      "metadata": {
        "id": "dky7YzNkvrqP"
      },
      "source": [
        "**Name**: Cross selling Exploratory Data Analysis and Recommendation\n",
        "\n",
        "**Report date**: August 1, 2021\n",
        " \n",
        "**Email**: peterkin_nicolette@yahoo.com \n",
        "\n",
        "**Country**: Jamaica \n",
        "\n",
        "**Specialization**: Data Analyst \n",
        "\n",
        "**Group Name**: Dynasty \n"
      ]
    },
    {
      "cell_type": "markdown",
      "metadata": {
        "id": "60NeWGhrwDmY"
      },
      "source": [
        "**Problem description**: \n",
        "\n",
        "Changing to a new selling technique requires a lot of research and data analyzing to ensure that the right cross selling strategy is used to re-enter the market. The issue XYZ credit union is having currently is that they do not know what actions to take in order to increase cross selling in the credit union. \n"
      ]
    },
    {
      "cell_type": "markdown",
      "metadata": {
        "id": "VWk0oGTTC9n0"
      },
      "source": [
        "**Business Understanding**:\n",
        "\n",
        "Our goal is to create an exploratory data analysis for XYZ credit unions’ dataset and create a cross-selling plan solution. The EDA report will be specific and meaningful so there is no room for assumptions. As the data analyst assigned to this project my job is to analyze the given data with much scrutiny in order to provide XYZ credit union with vital insights on cross\n",
        "selling. Once the exploratory data analyze report is completed XYZ credit union will have actionable insights which can then be used to inform their cross-selling campaigns.\n"
      ]
    },
    {
      "cell_type": "markdown",
      "metadata": {
        "id": "kdspY3U_x8UB"
      },
      "source": [
        "*Loading the nesscessary libaries.*"
      ]
    },
    {
      "cell_type": "code",
      "metadata": {
        "id": "ukPz-CBXyB-K"
      },
      "source": [
        "import zipfile\n",
        "with zipfile.ZipFile('./cross_selling.zip', 'r') as zip_ref:\n",
        "    zip_ref.extractall('./')"
      ],
      "execution_count": null,
      "outputs": []
    },
    {
      "cell_type": "code",
      "metadata": {
        "id": "I06SRIBqIoH3"
      },
      "source": [
        "# import packages\n",
        "import numpy as np\n",
        "import seaborn as sns\n",
        "import matplotlib.pyplot as plt"
      ],
      "execution_count": 1,
      "outputs": []
    },
    {
      "cell_type": "markdown",
      "metadata": {
        "id": "nh4SA8yl2HNY"
      },
      "source": [
        "*Here we are setting up the configuration and utility files.*"
      ]
    },
    {
      "cell_type": "code",
      "metadata": {
        "colab": {
          "base_uri": "https://localhost:8080/"
        },
        "id": "65_YDMsjzUrO",
        "outputId": "ed90ea1c-e596-4bc6-c9f6-89ea0bb9fb09"
      },
      "source": [
        "%%writefile configuration.yaml\n",
        "file_type: csv\n",
        "dataset_name: train\n",
        "file_name: Train\n",
        "table_name: train_data\n",
        "inbound_delimiter: \",\"\n",
        "outbound_delimiter: \"|\"\n",
        "skip_leading_rows: 1\n",
        "columns:"
      ],
      "execution_count": 2,
      "outputs": [
        {
          "output_type": "stream",
          "text": [
            "Overwriting configuration.yaml\n"
          ],
          "name": "stdout"
        }
      ]
    },
    {
      "cell_type": "code",
      "metadata": {
        "colab": {
          "base_uri": "https://localhost:8080/"
        },
        "id": "IpfWWHbZzwp8",
        "outputId": "afff9780-57dd-4655-a40a-f267ac957dee"
      },
      "source": [
        "%%writefile utility.py\n",
        "import math\n",
        "import logging\n",
        "import os\n",
        "import subprocess\n",
        "import yaml\n",
        "import pandas as pd\n",
        "import datetime \n",
        "import gc\n",
        "import re\n",
        "import gzip\n",
        "import shutil\n",
        "import numpy as np\n",
        "import seaborn as sns\n",
        "\n",
        "################\n",
        "# File Reading #\n",
        "################\n",
        "\n",
        "def read_config_file(filepath):\n",
        "    with open(filepath, 'r') as stream:\n",
        "        try:\n",
        "            return yaml.safe_load(stream)\n",
        "        except yaml.YAMLError as exc:\n",
        "            logging.error(exc)\n"
      ],
      "execution_count": 3,
      "outputs": [
        {
          "output_type": "stream",
          "text": [
            "Overwriting utility.py\n"
          ],
          "name": "stdout"
        }
      ]
    },
    {
      "cell_type": "markdown",
      "metadata": {
        "id": "0a3Ae53m2gFR"
      },
      "source": [
        "*Here we are loading the Train Dataset.*"
      ]
    },
    {
      "cell_type": "code",
      "metadata": {
        "id": "lIvTSEFKz1Y0",
        "colab": {
          "base_uri": "https://localhost:8080/"
        },
        "outputId": "23ca6773-2ba8-4676-c47e-391ffbbc4338"
      },
      "source": [
        "import pandas as pd\n",
        "import utility as util\n",
        "\n",
        "# Read config file\n",
        "config_data = util.read_config_file(\"configuration.yaml\")\n",
        "\n",
        "# read the file using config file\n",
        "file_type = config_data['file_type']\n",
        "source_file = \"./\" + config_data['file_name'] + f'.{file_type}'\n",
        "\n",
        "#print(\"\",source_file)\n",
        "df = pd.read_csv(source_file,config_data['inbound_delimiter'])"
      ],
      "execution_count": 4,
      "outputs": [
        {
          "output_type": "stream",
          "text": [
            "/usr/local/lib/python3.7/dist-packages/IPython/core/interactiveshell.py:2718: DtypeWarning: Columns (5,8,11,15) have mixed types.Specify dtype option on import or set low_memory=False.\n",
            "  interactivity=interactivity, compiler=compiler, result=result)\n"
          ],
          "name": "stderr"
        }
      ]
    },
    {
      "cell_type": "markdown",
      "metadata": {
        "id": "wJHfnMxdzjWu"
      },
      "source": [
        "**Data Understanding**"
      ]
    },
    {
      "cell_type": "code",
      "metadata": {
        "colab": {
          "background_save": true
        },
        "id": "ebEs0IWfMIT7",
        "outputId": "ee630353-d557-4856-c5ca-c36892928d97"
      },
      "source": [
        "# Total missing values for each feature\n",
        "print(df.isnull().sum())"
      ],
      "execution_count": null,
      "outputs": [
        {
          "output_type": "stream",
          "text": [
            "fecha_dato                      0\n",
            "ncodpers                        0\n",
            "ind_empleado                27734\n",
            "pais_residencia             27734\n",
            "sexo                        27804\n",
            "age                             0\n",
            "fecha_alta                  27734\n",
            "ind_nuevo                   27734\n",
            "antiguedad                      0\n",
            "indrel                      27734\n",
            "ult_fec_cli_1t           13622516\n",
            "indrel_1mes                149781\n",
            "tiprel_1mes                149781\n",
            "indresi                     27734\n",
            "indext                      27734\n",
            "conyuemp                 13645501\n",
            "canal_entrada              186126\n",
            "indfall                     27734\n",
            "tipodom                     27735\n",
            "cod_prov                    93591\n",
            "nomprov                     93591\n",
            "ind_actividad_cliente       27734\n",
            "renta                     2794375\n",
            "segmento                   189368\n",
            "ind_ahor_fin_ult1               0\n",
            "ind_aval_fin_ult1               0\n",
            "ind_cco_fin_ult1                0\n",
            "ind_cder_fin_ult1               0\n",
            "ind_cno_fin_ult1                0\n",
            "ind_ctju_fin_ult1               0\n",
            "ind_ctma_fin_ult1               0\n",
            "ind_ctop_fin_ult1               0\n",
            "ind_ctpp_fin_ult1               0\n",
            "ind_deco_fin_ult1               0\n",
            "ind_deme_fin_ult1               0\n",
            "ind_dela_fin_ult1               0\n",
            "ind_ecue_fin_ult1               0\n",
            "ind_fond_fin_ult1               0\n",
            "ind_hip_fin_ult1                0\n",
            "ind_plan_fin_ult1               0\n",
            "ind_pres_fin_ult1               0\n",
            "ind_reca_fin_ult1               0\n",
            "ind_tjcr_fin_ult1               0\n",
            "ind_valo_fin_ult1               0\n",
            "ind_viv_fin_ult1                0\n",
            "ind_nomina_ult1             16063\n",
            "ind_nom_pens_ult1           16063\n",
            "ind_recibo_ult1                 0\n",
            "dtype: int64\n"
          ],
          "name": "stdout"
        }
      ]
    },
    {
      "cell_type": "markdown",
      "metadata": {
        "id": "ntDgEQQQPzZN"
      },
      "source": [
        "##### The code ran above is to find out what are the missing values in the dataset."
      ]
    },
    {
      "cell_type": "code",
      "metadata": {
        "colab": {
          "background_save": true
        },
        "id": "3kDECrz7MKtV",
        "outputId": "b1a3eebe-ba64-4975-e677-4f2dbefe796f"
      },
      "source": [
        "# Data types\n",
        "print(df.info())"
      ],
      "execution_count": null,
      "outputs": [
        {
          "output_type": "stream",
          "text": [
            "<class 'pandas.core.frame.DataFrame'>\n",
            "RangeIndex: 13647309 entries, 0 to 13647308\n",
            "Data columns (total 48 columns):\n",
            " #   Column                 Dtype  \n",
            "---  ------                 -----  \n",
            " 0   fecha_dato             object \n",
            " 1   ncodpers               int64  \n",
            " 2   ind_empleado           object \n",
            " 3   pais_residencia        object \n",
            " 4   sexo                   object \n",
            " 5   age                    object \n",
            " 6   fecha_alta             object \n",
            " 7   ind_nuevo              float64\n",
            " 8   antiguedad             object \n",
            " 9   indrel                 float64\n",
            " 10  ult_fec_cli_1t         object \n",
            " 11  indrel_1mes            object \n",
            " 12  tiprel_1mes            object \n",
            " 13  indresi                object \n",
            " 14  indext                 object \n",
            " 15  conyuemp               object \n",
            " 16  canal_entrada          object \n",
            " 17  indfall                object \n",
            " 18  tipodom                float64\n",
            " 19  cod_prov               float64\n",
            " 20  nomprov                object \n",
            " 21  ind_actividad_cliente  float64\n",
            " 22  renta                  float64\n",
            " 23  segmento               object \n",
            " 24  ind_ahor_fin_ult1      int64  \n",
            " 25  ind_aval_fin_ult1      int64  \n",
            " 26  ind_cco_fin_ult1       int64  \n",
            " 27  ind_cder_fin_ult1      int64  \n",
            " 28  ind_cno_fin_ult1       int64  \n",
            " 29  ind_ctju_fin_ult1      int64  \n",
            " 30  ind_ctma_fin_ult1      int64  \n",
            " 31  ind_ctop_fin_ult1      int64  \n",
            " 32  ind_ctpp_fin_ult1      int64  \n",
            " 33  ind_deco_fin_ult1      int64  \n",
            " 34  ind_deme_fin_ult1      int64  \n",
            " 35  ind_dela_fin_ult1      int64  \n",
            " 36  ind_ecue_fin_ult1      int64  \n",
            " 37  ind_fond_fin_ult1      int64  \n",
            " 38  ind_hip_fin_ult1       int64  \n",
            " 39  ind_plan_fin_ult1      int64  \n",
            " 40  ind_pres_fin_ult1      int64  \n",
            " 41  ind_reca_fin_ult1      int64  \n",
            " 42  ind_tjcr_fin_ult1      int64  \n",
            " 43  ind_valo_fin_ult1      int64  \n",
            " 44  ind_viv_fin_ult1       int64  \n",
            " 45  ind_nomina_ult1        float64\n",
            " 46  ind_nom_pens_ult1      float64\n",
            " 47  ind_recibo_ult1        int64  \n",
            "dtypes: float64(8), int64(23), object(17)\n",
            "memory usage: 4.9+ GB\n",
            "None\n"
          ],
          "name": "stdout"
        }
      ]
    },
    {
      "cell_type": "markdown",
      "metadata": {
        "id": "6ccPq4xROrhp"
      },
      "source": [
        "##### The dataframe consist of eight(8) floats64, twenty-three(23) int64 and seventeen(17) object.\n",
        "                              \n"
      ]
    },
    {
      "cell_type": "code",
      "metadata": {
        "colab": {
          "background_save": true
        },
        "id": "cKgXR8c61Lf2",
        "outputId": "05db9e52-cd31-41df-8a42-be97a1b6c3c5"
      },
      "source": [
        "# show rows with missing value for ind_empleado\n",
        "df[df['ind_empleado'].isnull()]"
      ],
      "execution_count": null,
      "outputs": [
        {
          "output_type": "execute_result",
          "data": {
            "text/html": [
              "<div>\n",
              "<style scoped>\n",
              "    .dataframe tbody tr th:only-of-type {\n",
              "        vertical-align: middle;\n",
              "    }\n",
              "\n",
              "    .dataframe tbody tr th {\n",
              "        vertical-align: top;\n",
              "    }\n",
              "\n",
              "    .dataframe thead th {\n",
              "        text-align: right;\n",
              "    }\n",
              "</style>\n",
              "<table border=\"1\" class=\"dataframe\">\n",
              "  <thead>\n",
              "    <tr style=\"text-align: right;\">\n",
              "      <th></th>\n",
              "      <th>fecha_dato</th>\n",
              "      <th>ncodpers</th>\n",
              "      <th>ind_empleado</th>\n",
              "      <th>pais_residencia</th>\n",
              "      <th>sexo</th>\n",
              "      <th>age</th>\n",
              "      <th>fecha_alta</th>\n",
              "      <th>ind_nuevo</th>\n",
              "      <th>antiguedad</th>\n",
              "      <th>indrel</th>\n",
              "      <th>...</th>\n",
              "      <th>ind_hip_fin_ult1</th>\n",
              "      <th>ind_plan_fin_ult1</th>\n",
              "      <th>ind_pres_fin_ult1</th>\n",
              "      <th>ind_reca_fin_ult1</th>\n",
              "      <th>ind_tjcr_fin_ult1</th>\n",
              "      <th>ind_valo_fin_ult1</th>\n",
              "      <th>ind_viv_fin_ult1</th>\n",
              "      <th>ind_nomina_ult1</th>\n",
              "      <th>ind_nom_pens_ult1</th>\n",
              "      <th>ind_recibo_ult1</th>\n",
              "    </tr>\n",
              "  </thead>\n",
              "  <tbody>\n",
              "    <tr>\n",
              "      <th>261</th>\n",
              "      <td>2015-01-28</td>\n",
              "      <td>1050741</td>\n",
              "      <td>NaN</td>\n",
              "      <td>NaN</td>\n",
              "      <td>NaN</td>\n",
              "      <td>NA</td>\n",
              "      <td>NaN</td>\n",
              "      <td>NaN</td>\n",
              "      <td>NA</td>\n",
              "      <td>NaN</td>\n",
              "      <td>...</td>\n",
              "      <td>0</td>\n",
              "      <td>0</td>\n",
              "      <td>0</td>\n",
              "      <td>0</td>\n",
              "      <td>0</td>\n",
              "      <td>0</td>\n",
              "      <td>0</td>\n",
              "      <td>0.0</td>\n",
              "      <td>0.0</td>\n",
              "      <td>0</td>\n",
              "    </tr>\n",
              "    <tr>\n",
              "      <th>1029</th>\n",
              "      <td>2015-01-28</td>\n",
              "      <td>1051017</td>\n",
              "      <td>NaN</td>\n",
              "      <td>NaN</td>\n",
              "      <td>NaN</td>\n",
              "      <td>NA</td>\n",
              "      <td>NaN</td>\n",
              "      <td>NaN</td>\n",
              "      <td>NA</td>\n",
              "      <td>NaN</td>\n",
              "      <td>...</td>\n",
              "      <td>0</td>\n",
              "      <td>0</td>\n",
              "      <td>0</td>\n",
              "      <td>0</td>\n",
              "      <td>0</td>\n",
              "      <td>0</td>\n",
              "      <td>0</td>\n",
              "      <td>0.0</td>\n",
              "      <td>0.0</td>\n",
              "      <td>0</td>\n",
              "    </tr>\n",
              "    <tr>\n",
              "      <th>1063</th>\n",
              "      <td>2015-01-28</td>\n",
              "      <td>1051064</td>\n",
              "      <td>NaN</td>\n",
              "      <td>NaN</td>\n",
              "      <td>NaN</td>\n",
              "      <td>NA</td>\n",
              "      <td>NaN</td>\n",
              "      <td>NaN</td>\n",
              "      <td>NA</td>\n",
              "      <td>NaN</td>\n",
              "      <td>...</td>\n",
              "      <td>0</td>\n",
              "      <td>0</td>\n",
              "      <td>0</td>\n",
              "      <td>0</td>\n",
              "      <td>0</td>\n",
              "      <td>0</td>\n",
              "      <td>0</td>\n",
              "      <td>0.0</td>\n",
              "      <td>0.0</td>\n",
              "      <td>0</td>\n",
              "    </tr>\n",
              "    <tr>\n",
              "      <th>1154</th>\n",
              "      <td>2015-01-28</td>\n",
              "      <td>1051387</td>\n",
              "      <td>NaN</td>\n",
              "      <td>NaN</td>\n",
              "      <td>NaN</td>\n",
              "      <td>NA</td>\n",
              "      <td>NaN</td>\n",
              "      <td>NaN</td>\n",
              "      <td>NA</td>\n",
              "      <td>NaN</td>\n",
              "      <td>...</td>\n",
              "      <td>0</td>\n",
              "      <td>0</td>\n",
              "      <td>0</td>\n",
              "      <td>0</td>\n",
              "      <td>0</td>\n",
              "      <td>0</td>\n",
              "      <td>0</td>\n",
              "      <td>0.0</td>\n",
              "      <td>0.0</td>\n",
              "      <td>0</td>\n",
              "    </tr>\n",
              "    <tr>\n",
              "      <th>1779</th>\n",
              "      <td>2015-01-28</td>\n",
              "      <td>1048660</td>\n",
              "      <td>NaN</td>\n",
              "      <td>NaN</td>\n",
              "      <td>NaN</td>\n",
              "      <td>NA</td>\n",
              "      <td>NaN</td>\n",
              "      <td>NaN</td>\n",
              "      <td>NA</td>\n",
              "      <td>NaN</td>\n",
              "      <td>...</td>\n",
              "      <td>0</td>\n",
              "      <td>0</td>\n",
              "      <td>0</td>\n",
              "      <td>0</td>\n",
              "      <td>0</td>\n",
              "      <td>0</td>\n",
              "      <td>0</td>\n",
              "      <td>0.0</td>\n",
              "      <td>0.0</td>\n",
              "      <td>0</td>\n",
              "    </tr>\n",
              "    <tr>\n",
              "      <th>...</th>\n",
              "      <td>...</td>\n",
              "      <td>...</td>\n",
              "      <td>...</td>\n",
              "      <td>...</td>\n",
              "      <td>...</td>\n",
              "      <td>...</td>\n",
              "      <td>...</td>\n",
              "      <td>...</td>\n",
              "      <td>...</td>\n",
              "      <td>...</td>\n",
              "      <td>...</td>\n",
              "      <td>...</td>\n",
              "      <td>...</td>\n",
              "      <td>...</td>\n",
              "      <td>...</td>\n",
              "      <td>...</td>\n",
              "      <td>...</td>\n",
              "      <td>...</td>\n",
              "      <td>...</td>\n",
              "      <td>...</td>\n",
              "      <td>...</td>\n",
              "    </tr>\n",
              "    <tr>\n",
              "      <th>3775976</th>\n",
              "      <td>2015-06-28</td>\n",
              "      <td>550081</td>\n",
              "      <td>NaN</td>\n",
              "      <td>NaN</td>\n",
              "      <td>NaN</td>\n",
              "      <td>NA</td>\n",
              "      <td>NaN</td>\n",
              "      <td>NaN</td>\n",
              "      <td>NA</td>\n",
              "      <td>NaN</td>\n",
              "      <td>...</td>\n",
              "      <td>0</td>\n",
              "      <td>0</td>\n",
              "      <td>0</td>\n",
              "      <td>1</td>\n",
              "      <td>0</td>\n",
              "      <td>0</td>\n",
              "      <td>0</td>\n",
              "      <td>NaN</td>\n",
              "      <td>NaN</td>\n",
              "      <td>0</td>\n",
              "    </tr>\n",
              "    <tr>\n",
              "      <th>3776175</th>\n",
              "      <td>2015-06-28</td>\n",
              "      <td>550693</td>\n",
              "      <td>NaN</td>\n",
              "      <td>NaN</td>\n",
              "      <td>NaN</td>\n",
              "      <td>NA</td>\n",
              "      <td>NaN</td>\n",
              "      <td>NaN</td>\n",
              "      <td>NA</td>\n",
              "      <td>NaN</td>\n",
              "      <td>...</td>\n",
              "      <td>0</td>\n",
              "      <td>0</td>\n",
              "      <td>0</td>\n",
              "      <td>1</td>\n",
              "      <td>0</td>\n",
              "      <td>0</td>\n",
              "      <td>0</td>\n",
              "      <td>NaN</td>\n",
              "      <td>NaN</td>\n",
              "      <td>0</td>\n",
              "    </tr>\n",
              "    <tr>\n",
              "      <th>3776230</th>\n",
              "      <td>2015-06-28</td>\n",
              "      <td>549518</td>\n",
              "      <td>NaN</td>\n",
              "      <td>NaN</td>\n",
              "      <td>NaN</td>\n",
              "      <td>NA</td>\n",
              "      <td>NaN</td>\n",
              "      <td>NaN</td>\n",
              "      <td>NA</td>\n",
              "      <td>NaN</td>\n",
              "      <td>...</td>\n",
              "      <td>0</td>\n",
              "      <td>0</td>\n",
              "      <td>0</td>\n",
              "      <td>1</td>\n",
              "      <td>0</td>\n",
              "      <td>0</td>\n",
              "      <td>0</td>\n",
              "      <td>NaN</td>\n",
              "      <td>NaN</td>\n",
              "      <td>0</td>\n",
              "    </tr>\n",
              "    <tr>\n",
              "      <th>3776279</th>\n",
              "      <td>2015-06-28</td>\n",
              "      <td>549207</td>\n",
              "      <td>NaN</td>\n",
              "      <td>NaN</td>\n",
              "      <td>NaN</td>\n",
              "      <td>NA</td>\n",
              "      <td>NaN</td>\n",
              "      <td>NaN</td>\n",
              "      <td>NA</td>\n",
              "      <td>NaN</td>\n",
              "      <td>...</td>\n",
              "      <td>0</td>\n",
              "      <td>0</td>\n",
              "      <td>0</td>\n",
              "      <td>1</td>\n",
              "      <td>0</td>\n",
              "      <td>0</td>\n",
              "      <td>0</td>\n",
              "      <td>NaN</td>\n",
              "      <td>NaN</td>\n",
              "      <td>0</td>\n",
              "    </tr>\n",
              "    <tr>\n",
              "      <th>3776332</th>\n",
              "      <td>2015-06-28</td>\n",
              "      <td>549255</td>\n",
              "      <td>NaN</td>\n",
              "      <td>NaN</td>\n",
              "      <td>NaN</td>\n",
              "      <td>NA</td>\n",
              "      <td>NaN</td>\n",
              "      <td>NaN</td>\n",
              "      <td>NA</td>\n",
              "      <td>NaN</td>\n",
              "      <td>...</td>\n",
              "      <td>0</td>\n",
              "      <td>0</td>\n",
              "      <td>0</td>\n",
              "      <td>1</td>\n",
              "      <td>0</td>\n",
              "      <td>0</td>\n",
              "      <td>0</td>\n",
              "      <td>NaN</td>\n",
              "      <td>NaN</td>\n",
              "      <td>0</td>\n",
              "    </tr>\n",
              "  </tbody>\n",
              "</table>\n",
              "<p>27734 rows × 48 columns</p>\n",
              "</div>"
            ],
            "text/plain": [
              "         fecha_dato  ncodpers ind_empleado pais_residencia sexo  age  \\\n",
              "261      2015-01-28   1050741          NaN             NaN  NaN   NA   \n",
              "1029     2015-01-28   1051017          NaN             NaN  NaN   NA   \n",
              "1063     2015-01-28   1051064          NaN             NaN  NaN   NA   \n",
              "1154     2015-01-28   1051387          NaN             NaN  NaN   NA   \n",
              "1779     2015-01-28   1048660          NaN             NaN  NaN   NA   \n",
              "...             ...       ...          ...             ...  ...  ...   \n",
              "3775976  2015-06-28    550081          NaN             NaN  NaN   NA   \n",
              "3776175  2015-06-28    550693          NaN             NaN  NaN   NA   \n",
              "3776230  2015-06-28    549518          NaN             NaN  NaN   NA   \n",
              "3776279  2015-06-28    549207          NaN             NaN  NaN   NA   \n",
              "3776332  2015-06-28    549255          NaN             NaN  NaN   NA   \n",
              "\n",
              "        fecha_alta  ind_nuevo antiguedad  indrel  ... ind_hip_fin_ult1  \\\n",
              "261            NaN        NaN         NA     NaN  ...                0   \n",
              "1029           NaN        NaN         NA     NaN  ...                0   \n",
              "1063           NaN        NaN         NA     NaN  ...                0   \n",
              "1154           NaN        NaN         NA     NaN  ...                0   \n",
              "1779           NaN        NaN         NA     NaN  ...                0   \n",
              "...            ...        ...        ...     ...  ...              ...   \n",
              "3775976        NaN        NaN         NA     NaN  ...                0   \n",
              "3776175        NaN        NaN         NA     NaN  ...                0   \n",
              "3776230        NaN        NaN         NA     NaN  ...                0   \n",
              "3776279        NaN        NaN         NA     NaN  ...                0   \n",
              "3776332        NaN        NaN         NA     NaN  ...                0   \n",
              "\n",
              "        ind_plan_fin_ult1 ind_pres_fin_ult1 ind_reca_fin_ult1  \\\n",
              "261                     0                 0                 0   \n",
              "1029                    0                 0                 0   \n",
              "1063                    0                 0                 0   \n",
              "1154                    0                 0                 0   \n",
              "1779                    0                 0                 0   \n",
              "...                   ...               ...               ...   \n",
              "3775976                 0                 0                 1   \n",
              "3776175                 0                 0                 1   \n",
              "3776230                 0                 0                 1   \n",
              "3776279                 0                 0                 1   \n",
              "3776332                 0                 0                 1   \n",
              "\n",
              "        ind_tjcr_fin_ult1 ind_valo_fin_ult1 ind_viv_fin_ult1 ind_nomina_ult1  \\\n",
              "261                     0                 0                0             0.0   \n",
              "1029                    0                 0                0             0.0   \n",
              "1063                    0                 0                0             0.0   \n",
              "1154                    0                 0                0             0.0   \n",
              "1779                    0                 0                0             0.0   \n",
              "...                   ...               ...              ...             ...   \n",
              "3775976                 0                 0                0             NaN   \n",
              "3776175                 0                 0                0             NaN   \n",
              "3776230                 0                 0                0             NaN   \n",
              "3776279                 0                 0                0             NaN   \n",
              "3776332                 0                 0                0             NaN   \n",
              "\n",
              "         ind_nom_pens_ult1  ind_recibo_ult1  \n",
              "261                    0.0                0  \n",
              "1029                   0.0                0  \n",
              "1063                   0.0                0  \n",
              "1154                   0.0                0  \n",
              "1779                   0.0                0  \n",
              "...                    ...              ...  \n",
              "3775976                NaN                0  \n",
              "3776175                NaN                0  \n",
              "3776230                NaN                0  \n",
              "3776279                NaN                0  \n",
              "3776332                NaN                0  \n",
              "\n",
              "[27734 rows x 48 columns]"
            ]
          },
          "metadata": {
            "tags": []
          },
          "execution_count": 3
        }
      ]
    },
    {
      "cell_type": "markdown",
      "metadata": {
        "id": "VlyKBshLOLIF"
      },
      "source": [
        "*The table above shows that there are NA and NAN values that we will need to clean later in our EDA.*"
      ]
    },
    {
      "cell_type": "code",
      "metadata": {
        "id": "hEzlXYTzCxH6",
        "outputId": "7441bf86-7168-480d-a64e-4a042dd36474"
      },
      "source": [
        "df1 = df[df.isna().any(axis=1)]\n",
        "print(df1);"
      ],
      "execution_count": null,
      "outputs": [
        {
          "output_type": "stream",
          "text": [
            "          fecha_dato  ncodpers ind_empleado pais_residencia sexo  age  \\\n",
            "0         2015-01-28   1375586            N              ES    H   35   \n",
            "1         2015-01-28   1050611            N              ES    V   23   \n",
            "2         2015-01-28   1050612            N              ES    V   23   \n",
            "3         2015-01-28   1050613            N              ES    H   22   \n",
            "4         2015-01-28   1050614            N              ES    V   23   \n",
            "...              ...       ...          ...             ...  ...  ...   \n",
            "13647304  2016-05-28   1166765            N              ES    V   22   \n",
            "13647305  2016-05-28   1166764            N              ES    V   23   \n",
            "13647306  2016-05-28   1166763            N              ES    H   47   \n",
            "13647307  2016-05-28   1166789            N              ES    H   22   \n",
            "13647308  2016-05-28   1550586            N              ES    H   37   \n",
            "\n",
            "          fecha_alta  ind_nuevo antiguedad  indrel  ... ind_hip_fin_ult1  \\\n",
            "0         2015-01-12        0.0          6     1.0  ...                0   \n",
            "1         2012-08-10        0.0         35     1.0  ...                0   \n",
            "2         2012-08-10        0.0         35     1.0  ...                0   \n",
            "3         2012-08-10        0.0         35     1.0  ...                0   \n",
            "4         2012-08-10        0.0         35     1.0  ...                0   \n",
            "...              ...        ...        ...     ...  ...              ...   \n",
            "13647304  2013-08-14        0.0         33     1.0  ...                0   \n",
            "13647305  2013-08-14        0.0         33     1.0  ...                0   \n",
            "13647306  2013-08-14        0.0         33     1.0  ...                0   \n",
            "13647307  2013-08-14        0.0         33     1.0  ...                0   \n",
            "13647308  2016-05-13        1.0          0     1.0  ...                0   \n",
            "\n",
            "         ind_plan_fin_ult1 ind_pres_fin_ult1 ind_reca_fin_ult1  \\\n",
            "0                        0                 0                 0   \n",
            "1                        0                 0                 0   \n",
            "2                        0                 0                 0   \n",
            "3                        0                 0                 0   \n",
            "4                        0                 0                 0   \n",
            "...                    ...               ...               ...   \n",
            "13647304                 0                 0                 0   \n",
            "13647305                 0                 0                 0   \n",
            "13647306                 0                 0                 0   \n",
            "13647307                 0                 0                 0   \n",
            "13647308                 0                 0                 0   \n",
            "\n",
            "         ind_tjcr_fin_ult1 ind_valo_fin_ult1 ind_viv_fin_ult1 ind_nomina_ult1  \\\n",
            "0                        0                 0                0             0.0   \n",
            "1                        0                 0                0             0.0   \n",
            "2                        0                 0                0             0.0   \n",
            "3                        0                 0                0             0.0   \n",
            "4                        0                 0                0             0.0   \n",
            "...                    ...               ...              ...             ...   \n",
            "13647304                 0                 0                0             0.0   \n",
            "13647305                 0                 0                0             0.0   \n",
            "13647306                 0                 0                0             0.0   \n",
            "13647307                 0                 0                0             0.0   \n",
            "13647308                 0                 0                0             0.0   \n",
            "\n",
            "          ind_nom_pens_ult1  ind_recibo_ult1  \n",
            "0                       0.0                0  \n",
            "1                       0.0                0  \n",
            "2                       0.0                0  \n",
            "3                       0.0                0  \n",
            "4                       0.0                0  \n",
            "...                     ...              ...  \n",
            "13647304                0.0                0  \n",
            "13647305                0.0                0  \n",
            "13647306                0.0                0  \n",
            "13647307                0.0                0  \n",
            "13647308                0.0                0  \n",
            "\n",
            "[13647309 rows x 48 columns]\n"
          ],
          "name": "stdout"
        }
      ]
    },
    {
      "cell_type": "code",
      "metadata": {
        "id": "nbo5w6Vf_o9t",
        "outputId": "ef4c29bb-9abe-4023-81f9-6f2ad30320b0"
      },
      "source": [
        "# Unique customer code - skew\n",
        "print(df.ncodpers.nunique())"
      ],
      "execution_count": null,
      "outputs": [
        {
          "output_type": "stream",
          "text": [
            "956645\n"
          ],
          "name": "stdout"
        }
      ]
    },
    {
      "cell_type": "markdown",
      "metadata": {
        "id": "70yWvwsRN6oT"
      },
      "source": [
        "*The code shows that there are alot of duplicates in the dataset.*"
      ]
    },
    {
      "cell_type": "code",
      "metadata": {
        "id": "ZAYaHLtzG25-",
        "outputId": "4ca7e059-6cb5-493a-fd05-eee5098df7e0"
      },
      "source": [
        "\n",
        "# Outliner\n",
        "sns.boxplot(data = df[['ind_nuevo', 'indrel', 'tipodom', 'cod_prov', 'ind_actividad_cliente', 'renta', 'ind_ahor_fin_ult1']], palette= \"rainbow\", orient= 'h');"
      ],
      "execution_count": null,
      "outputs": [
        {
          "output_type": "display_data",
          "data": {
            "image/png": "[encoded data removed]",
            "text/plain": [
              "<Figure size 432x288 with 1 Axes>"
            ]
          },
          "metadata": {
            "tags": [],
            "needs_background": "light"
          }
        }
      ]
    },
    {
      "cell_type": "markdown",
      "metadata": {
        "id": "4_lemdTaM0Vg"
      },
      "source": [
        "##### From the above graph it is evident that the dataset has outliers."
      ]
    },
    {
      "cell_type": "markdown",
      "metadata": {
        "id": "D0NlXgM4Q-P2"
      },
      "source": [
        "### In order to overcome some of the NA values we will use the mean value to fill in the missing information and for the ones thats we are unable to fill we will remove them. \n",
        "### For duplicate values we will remove them as they are not needed in the dataset.\n",
        "###Also we intend on removing the outliers in the dataset as they will not change the actionable insights gained from the dataset. "
      ]
    },
    {
      "cell_type": "markdown",
      "metadata": {
        "id": "T63B6IWm4ekm"
      },
      "source": [
        "### **Data Cleaning and Transformation**"
      ]
    },
    {
      "cell_type": "code",
      "metadata": {
        "colab": {
          "base_uri": "https://localhost:8080/",
          "height": 317
        },
        "id": "ugIv6GI8WdBh",
        "outputId": "842b8860-8861-47ea-b9f0-6279de7cacd5"
      },
      "source": [
        "df_numeric = df.select_dtypes(include=[np.number])\n",
        "df_numeric.describe(include = 'all')"
      ],
      "execution_count": null,
      "outputs": [
        {
          "output_type": "execute_result",
          "data": {
            "text/html": [
              "<div>\n",
              "<style scoped>\n",
              "    .dataframe tbody tr th:only-of-type {\n",
              "        vertical-align: middle;\n",
              "    }\n",
              "\n",
              "    .dataframe tbody tr th {\n",
              "        vertical-align: top;\n",
              "    }\n",
              "\n",
              "    .dataframe thead th {\n",
              "        text-align: right;\n",
              "    }\n",
              "</style>\n",
              "<table border=\"1\" class=\"dataframe\">\n",
              "  <thead>\n",
              "    <tr style=\"text-align: right;\">\n",
              "      <th></th>\n",
              "      <th>ncodpers</th>\n",
              "      <th>ind_nuevo</th>\n",
              "      <th>indrel</th>\n",
              "      <th>tipodom</th>\n",
              "      <th>cod_prov</th>\n",
              "      <th>ind_actividad_cliente</th>\n",
              "      <th>renta</th>\n",
              "      <th>ind_ahor_fin_ult1</th>\n",
              "      <th>ind_aval_fin_ult1</th>\n",
              "      <th>ind_cco_fin_ult1</th>\n",
              "      <th>...</th>\n",
              "      <th>ind_hip_fin_ult1</th>\n",
              "      <th>ind_plan_fin_ult1</th>\n",
              "      <th>ind_pres_fin_ult1</th>\n",
              "      <th>ind_reca_fin_ult1</th>\n",
              "      <th>ind_tjcr_fin_ult1</th>\n",
              "      <th>ind_valo_fin_ult1</th>\n",
              "      <th>ind_viv_fin_ult1</th>\n",
              "      <th>ind_nomina_ult1</th>\n",
              "      <th>ind_nom_pens_ult1</th>\n",
              "      <th>ind_recibo_ult1</th>\n",
              "    </tr>\n",
              "  </thead>\n",
              "  <tbody>\n",
              "    <tr>\n",
              "      <th>count</th>\n",
              "      <td>1.364731e+07</td>\n",
              "      <td>1.361958e+07</td>\n",
              "      <td>1.361958e+07</td>\n",
              "      <td>13619574.0</td>\n",
              "      <td>1.355372e+07</td>\n",
              "      <td>1.361958e+07</td>\n",
              "      <td>1.085293e+07</td>\n",
              "      <td>1.364731e+07</td>\n",
              "      <td>1.364731e+07</td>\n",
              "      <td>1.364731e+07</td>\n",
              "      <td>...</td>\n",
              "      <td>1.364731e+07</td>\n",
              "      <td>1.364731e+07</td>\n",
              "      <td>1.364731e+07</td>\n",
              "      <td>1.364731e+07</td>\n",
              "      <td>1.364731e+07</td>\n",
              "      <td>1.364731e+07</td>\n",
              "      <td>1.364731e+07</td>\n",
              "      <td>1.363125e+07</td>\n",
              "      <td>1.363125e+07</td>\n",
              "      <td>1.364731e+07</td>\n",
              "    </tr>\n",
              "    <tr>\n",
              "      <th>mean</th>\n",
              "      <td>8.349042e+05</td>\n",
              "      <td>5.956184e-02</td>\n",
              "      <td>1.178399e+00</td>\n",
              "      <td>1.0</td>\n",
              "      <td>2.657147e+01</td>\n",
              "      <td>4.578105e-01</td>\n",
              "      <td>1.342543e+05</td>\n",
              "      <td>1.022912e-04</td>\n",
              "      <td>2.315475e-05</td>\n",
              "      <td>6.554837e-01</td>\n",
              "      <td>...</td>\n",
              "      <td>5.886582e-03</td>\n",
              "      <td>9.170965e-03</td>\n",
              "      <td>2.627404e-03</td>\n",
              "      <td>5.253636e-02</td>\n",
              "      <td>4.438868e-02</td>\n",
              "      <td>2.560761e-02</td>\n",
              "      <td>3.847718e-03</td>\n",
              "      <td>5.472434e-02</td>\n",
              "      <td>5.942854e-02</td>\n",
              "      <td>1.279162e-01</td>\n",
              "    </tr>\n",
              "    <tr>\n",
              "      <th>std</th>\n",
              "      <td>4.315650e+05</td>\n",
              "      <td>2.366733e-01</td>\n",
              "      <td>4.177469e+00</td>\n",
              "      <td>0.0</td>\n",
              "      <td>1.278402e+01</td>\n",
              "      <td>4.982169e-01</td>\n",
              "      <td>2.306202e+05</td>\n",
              "      <td>1.011340e-02</td>\n",
              "      <td>4.811883e-03</td>\n",
              "      <td>4.752103e-01</td>\n",
              "      <td>...</td>\n",
              "      <td>7.649791e-02</td>\n",
              "      <td>9.532502e-02</td>\n",
              "      <td>5.119083e-02</td>\n",
              "      <td>2.231060e-01</td>\n",
              "      <td>2.059571e-01</td>\n",
              "      <td>1.579616e-01</td>\n",
              "      <td>6.191053e-02</td>\n",
              "      <td>2.274414e-01</td>\n",
              "      <td>2.364250e-01</td>\n",
              "      <td>3.339965e-01</td>\n",
              "    </tr>\n",
              "    <tr>\n",
              "      <th>min</th>\n",
              "      <td>1.588900e+04</td>\n",
              "      <td>0.000000e+00</td>\n",
              "      <td>1.000000e+00</td>\n",
              "      <td>1.0</td>\n",
              "      <td>1.000000e+00</td>\n",
              "      <td>0.000000e+00</td>\n",
              "      <td>1.202730e+03</td>\n",
              "      <td>0.000000e+00</td>\n",
              "      <td>0.000000e+00</td>\n",
              "      <td>0.000000e+00</td>\n",
              "      <td>...</td>\n",
              "      <td>0.000000e+00</td>\n",
              "      <td>0.000000e+00</td>\n",
              "      <td>0.000000e+00</td>\n",
              "      <td>0.000000e+00</td>\n",
              "      <td>0.000000e+00</td>\n",
              "      <td>0.000000e+00</td>\n",
              "      <td>0.000000e+00</td>\n",
              "      <td>0.000000e+00</td>\n",
              "      <td>0.000000e+00</td>\n",
              "      <td>0.000000e+00</td>\n",
              "    </tr>\n",
              "    <tr>\n",
              "      <th>25%</th>\n",
              "      <td>4.528130e+05</td>\n",
              "      <td>0.000000e+00</td>\n",
              "      <td>1.000000e+00</td>\n",
              "      <td>1.0</td>\n",
              "      <td>1.500000e+01</td>\n",
              "      <td>0.000000e+00</td>\n",
              "      <td>6.871098e+04</td>\n",
              "      <td>0.000000e+00</td>\n",
              "      <td>0.000000e+00</td>\n",
              "      <td>0.000000e+00</td>\n",
              "      <td>...</td>\n",
              "      <td>0.000000e+00</td>\n",
              "      <td>0.000000e+00</td>\n",
              "      <td>0.000000e+00</td>\n",
              "      <td>0.000000e+00</td>\n",
              "      <td>0.000000e+00</td>\n",
              "      <td>0.000000e+00</td>\n",
              "      <td>0.000000e+00</td>\n",
              "      <td>0.000000e+00</td>\n",
              "      <td>0.000000e+00</td>\n",
              "      <td>0.000000e+00</td>\n",
              "    </tr>\n",
              "    <tr>\n",
              "      <th>50%</th>\n",
              "      <td>9.318930e+05</td>\n",
              "      <td>0.000000e+00</td>\n",
              "      <td>1.000000e+00</td>\n",
              "      <td>1.0</td>\n",
              "      <td>2.800000e+01</td>\n",
              "      <td>0.000000e+00</td>\n",
              "      <td>1.018500e+05</td>\n",
              "      <td>0.000000e+00</td>\n",
              "      <td>0.000000e+00</td>\n",
              "      <td>1.000000e+00</td>\n",
              "      <td>...</td>\n",
              "      <td>0.000000e+00</td>\n",
              "      <td>0.000000e+00</td>\n",
              "      <td>0.000000e+00</td>\n",
              "      <td>0.000000e+00</td>\n",
              "      <td>0.000000e+00</td>\n",
              "      <td>0.000000e+00</td>\n",
              "      <td>0.000000e+00</td>\n",
              "      <td>0.000000e+00</td>\n",
              "      <td>0.000000e+00</td>\n",
              "      <td>0.000000e+00</td>\n",
              "    </tr>\n",
              "    <tr>\n",
              "      <th>75%</th>\n",
              "      <td>1.199286e+06</td>\n",
              "      <td>0.000000e+00</td>\n",
              "      <td>1.000000e+00</td>\n",
              "      <td>1.0</td>\n",
              "      <td>3.500000e+01</td>\n",
              "      <td>1.000000e+00</td>\n",
              "      <td>1.559560e+05</td>\n",
              "      <td>0.000000e+00</td>\n",
              "      <td>0.000000e+00</td>\n",
              "      <td>1.000000e+00</td>\n",
              "      <td>...</td>\n",
              "      <td>0.000000e+00</td>\n",
              "      <td>0.000000e+00</td>\n",
              "      <td>0.000000e+00</td>\n",
              "      <td>0.000000e+00</td>\n",
              "      <td>0.000000e+00</td>\n",
              "      <td>0.000000e+00</td>\n",
              "      <td>0.000000e+00</td>\n",
              "      <td>0.000000e+00</td>\n",
              "      <td>0.000000e+00</td>\n",
              "      <td>0.000000e+00</td>\n",
              "    </tr>\n",
              "    <tr>\n",
              "      <th>max</th>\n",
              "      <td>1.553689e+06</td>\n",
              "      <td>1.000000e+00</td>\n",
              "      <td>9.900000e+01</td>\n",
              "      <td>1.0</td>\n",
              "      <td>5.200000e+01</td>\n",
              "      <td>1.000000e+00</td>\n",
              "      <td>2.889440e+07</td>\n",
              "      <td>1.000000e+00</td>\n",
              "      <td>1.000000e+00</td>\n",
              "      <td>1.000000e+00</td>\n",
              "      <td>...</td>\n",
              "      <td>1.000000e+00</td>\n",
              "      <td>1.000000e+00</td>\n",
              "      <td>1.000000e+00</td>\n",
              "      <td>1.000000e+00</td>\n",
              "      <td>1.000000e+00</td>\n",
              "      <td>1.000000e+00</td>\n",
              "      <td>1.000000e+00</td>\n",
              "      <td>1.000000e+00</td>\n",
              "      <td>1.000000e+00</td>\n",
              "      <td>1.000000e+00</td>\n",
              "    </tr>\n",
              "  </tbody>\n",
              "</table>\n",
              "<p>8 rows × 31 columns</p>\n",
              "</div>"
            ],
            "text/plain": [
              "           ncodpers     ind_nuevo        indrel     tipodom      cod_prov  \\\n",
              "count  1.364731e+07  1.361958e+07  1.361958e+07  13619574.0  1.355372e+07   \n",
              "mean   8.349042e+05  5.956184e-02  1.178399e+00         1.0  2.657147e+01   \n",
              "std    4.315650e+05  2.366733e-01  4.177469e+00         0.0  1.278402e+01   \n",
              "min    1.588900e+04  0.000000e+00  1.000000e+00         1.0  1.000000e+00   \n",
              "25%    4.528130e+05  0.000000e+00  1.000000e+00         1.0  1.500000e+01   \n",
              "50%    9.318930e+05  0.000000e+00  1.000000e+00         1.0  2.800000e+01   \n",
              "75%    1.199286e+06  0.000000e+00  1.000000e+00         1.0  3.500000e+01   \n",
              "max    1.553689e+06  1.000000e+00  9.900000e+01         1.0  5.200000e+01   \n",
              "\n",
              "       ind_actividad_cliente         renta  ind_ahor_fin_ult1  \\\n",
              "count           1.361958e+07  1.085293e+07       1.364731e+07   \n",
              "mean            4.578105e-01  1.342543e+05       1.022912e-04   \n",
              "std             4.982169e-01  2.306202e+05       1.011340e-02   \n",
              "min             0.000000e+00  1.202730e+03       0.000000e+00   \n",
              "25%             0.000000e+00  6.871098e+04       0.000000e+00   \n",
              "50%             0.000000e+00  1.018500e+05       0.000000e+00   \n",
              "75%             1.000000e+00  1.559560e+05       0.000000e+00   \n",
              "max             1.000000e+00  2.889440e+07       1.000000e+00   \n",
              "\n",
              "       ind_aval_fin_ult1  ind_cco_fin_ult1  ...  ind_hip_fin_ult1  \\\n",
              "count       1.364731e+07      1.364731e+07  ...      1.364731e+07   \n",
              "mean        2.315475e-05      6.554837e-01  ...      5.886582e-03   \n",
              "std         4.811883e-03      4.752103e-01  ...      7.649791e-02   \n",
              "min         0.000000e+00      0.000000e+00  ...      0.000000e+00   \n",
              "25%         0.000000e+00      0.000000e+00  ...      0.000000e+00   \n",
              "50%         0.000000e+00      1.000000e+00  ...      0.000000e+00   \n",
              "75%         0.000000e+00      1.000000e+00  ...      0.000000e+00   \n",
              "max         1.000000e+00      1.000000e+00  ...      1.000000e+00   \n",
              "\n",
              "       ind_plan_fin_ult1  ind_pres_fin_ult1  ind_reca_fin_ult1  \\\n",
              "count       1.364731e+07       1.364731e+07       1.364731e+07   \n",
              "mean        9.170965e-03       2.627404e-03       5.253636e-02   \n",
              "std         9.532502e-02       5.119083e-02       2.231060e-01   \n",
              "min         0.000000e+00       0.000000e+00       0.000000e+00   \n",
              "25%         0.000000e+00       0.000000e+00       0.000000e+00   \n",
              "50%         0.000000e+00       0.000000e+00       0.000000e+00   \n",
              "75%         0.000000e+00       0.000000e+00       0.000000e+00   \n",
              "max         1.000000e+00       1.000000e+00       1.000000e+00   \n",
              "\n",
              "       ind_tjcr_fin_ult1  ind_valo_fin_ult1  ind_viv_fin_ult1  \\\n",
              "count       1.364731e+07       1.364731e+07      1.364731e+07   \n",
              "mean        4.438868e-02       2.560761e-02      3.847718e-03   \n",
              "std         2.059571e-01       1.579616e-01      6.191053e-02   \n",
              "min         0.000000e+00       0.000000e+00      0.000000e+00   \n",
              "25%         0.000000e+00       0.000000e+00      0.000000e+00   \n",
              "50%         0.000000e+00       0.000000e+00      0.000000e+00   \n",
              "75%         0.000000e+00       0.000000e+00      0.000000e+00   \n",
              "max         1.000000e+00       1.000000e+00      1.000000e+00   \n",
              "\n",
              "       ind_nomina_ult1  ind_nom_pens_ult1  ind_recibo_ult1  \n",
              "count     1.363125e+07       1.363125e+07     1.364731e+07  \n",
              "mean      5.472434e-02       5.942854e-02     1.279162e-01  \n",
              "std       2.274414e-01       2.364250e-01     3.339965e-01  \n",
              "min       0.000000e+00       0.000000e+00     0.000000e+00  \n",
              "25%       0.000000e+00       0.000000e+00     0.000000e+00  \n",
              "50%       0.000000e+00       0.000000e+00     0.000000e+00  \n",
              "75%       0.000000e+00       0.000000e+00     0.000000e+00  \n",
              "max       1.000000e+00       1.000000e+00     1.000000e+00  \n",
              "\n",
              "[8 rows x 31 columns]"
            ]
          },
          "metadata": {
            "tags": []
          },
          "execution_count": 3
        }
      ]
    },
    {
      "cell_type": "code",
      "metadata": {
        "colab": {
          "base_uri": "https://localhost:8080/"
        },
        "id": "8oAUWU8PAB6-",
        "outputId": "4f9ee4ae-30f0-4212-cf9e-04b413c7663d"
      },
      "source": [
        "num_rows = len(df.index)\n",
        "low_information_cols = [] #\n",
        "\n",
        "for col in df.columns:\n",
        "    cnts = df[col].value_counts(dropna=False)\n",
        "    top_pct = (cnts/num_rows).iloc[0]\n",
        "    \n",
        "    if top_pct > 0.95:\n",
        "        low_information_cols.append(col)\n",
        "        print('{0}: {1:.5f}%'.format(col, top_pct*100))\n",
        "        print(cnts)\n",
        "        print()"
      ],
      "execution_count": null,
      "outputs": [
        {
          "output_type": "stream",
          "text": [
            "ind_empleado: 99.73378%\n",
            "N      13610977\n",
            "NaN       27734\n",
            "B          3566\n",
            "F          2523\n",
            "A          2492\n",
            "S            17\n",
            "Name: ind_empleado, dtype: int64\n",
            "\n",
            "pais_residencia: 99.31416%\n",
            "ES     13553710\n",
            "NaN       27734\n",
            "FR         5161\n",
            "AR         4835\n",
            "DE         4625\n",
            "         ...   \n",
            "ZW           11\n",
            "DJ           11\n",
            "JM           11\n",
            "BM            6\n",
            "MT            2\n",
            "Name: pais_residencia, Length: 119, dtype: int64\n",
            "\n",
            "indrel: 99.61511%\n",
            "1.0     13594782\n",
            "NaN        27734\n",
            "99.0       24793\n",
            "Name: indrel, dtype: int64\n",
            "\n",
            "ult_fec_cli_1t: 99.81833%\n",
            "NaN           13622516\n",
            "2015-12-24         763\n",
            "2015-12-28         521\n",
            "2015-07-09         443\n",
            "2015-07-06         405\n",
            "                ...   \n",
            "2016-04-28          44\n",
            "2015-08-19          44\n",
            "2015-08-06          41\n",
            "2016-01-04          34\n",
            "2015-12-23          27\n",
            "Name: ult_fec_cli_1t, Length: 224, dtype: int64\n",
            "\n",
            "indresi: 99.31417%\n",
            "S      13553711\n",
            "N         65864\n",
            "NaN       27734\n",
            "Name: indresi, dtype: int64\n",
            "\n",
            "indext: 95.07251%\n",
            "N      12974839\n",
            "S        644736\n",
            "NaN       27734\n",
            "Name: indext, dtype: int64\n",
            "\n",
            "conyuemp: 99.98675%\n",
            "NaN    13645501\n",
            "N          1791\n",
            "S            17\n",
            "Name: conyuemp, dtype: int64\n",
            "\n",
            "indfall: 99.54206%\n",
            "N      13584813\n",
            "S         34762\n",
            "NaN       27734\n",
            "Name: indfall, dtype: int64\n",
            "\n",
            "tipodom: 99.79677%\n",
            "1.0    13619574\n",
            "NaN       27735\n",
            "Name: tipodom, dtype: int64\n",
            "\n",
            "ind_ahor_fin_ult1: 99.98977%\n",
            "0    13645913\n",
            "1        1396\n",
            "Name: ind_ahor_fin_ult1, dtype: int64\n",
            "\n",
            "ind_aval_fin_ult1: 99.99768%\n",
            "0    13646993\n",
            "1         316\n",
            "Name: ind_aval_fin_ult1, dtype: int64\n",
            "\n",
            "ind_cder_fin_ult1: 99.96061%\n",
            "0    13641933\n",
            "1        5376\n",
            "Name: ind_cder_fin_ult1, dtype: int64\n",
            "\n",
            "ind_ctju_fin_ult1: 99.05258%\n",
            "0    13518012\n",
            "1      129297\n",
            "Name: ind_ctju_fin_ult1, dtype: int64\n",
            "\n",
            "ind_ctma_fin_ult1: 99.02734%\n",
            "0    13514567\n",
            "1      132742\n",
            "Name: ind_ctma_fin_ult1, dtype: int64\n",
            "\n",
            "ind_ctpp_fin_ult1: 95.66942%\n",
            "0    13056301\n",
            "1      591008\n",
            "Name: ind_ctpp_fin_ult1, dtype: int64\n",
            "\n",
            "ind_deco_fin_ult1: 99.82213%\n",
            "0    13623034\n",
            "1       24275\n",
            "Name: ind_deco_fin_ult1, dtype: int64\n",
            "\n",
            "ind_deme_fin_ult1: 99.83390%\n",
            "0    13624641\n",
            "1       22668\n",
            "Name: ind_deme_fin_ult1, dtype: int64\n",
            "\n",
            "ind_dela_fin_ult1: 95.70332%\n",
            "0    13060928\n",
            "1      586381\n",
            "Name: ind_dela_fin_ult1, dtype: int64\n",
            "\n",
            "ind_fond_fin_ult1: 98.15140%\n",
            "0    13395025\n",
            "1      252284\n",
            "Name: ind_fond_fin_ult1, dtype: int64\n",
            "\n",
            "ind_hip_fin_ult1: 99.41134%\n",
            "0    13566973\n",
            "1       80336\n",
            "Name: ind_hip_fin_ult1, dtype: int64\n",
            "\n",
            "ind_plan_fin_ult1: 99.08290%\n",
            "0    13522150\n",
            "1      125159\n",
            "Name: ind_plan_fin_ult1, dtype: int64\n",
            "\n",
            "ind_pres_fin_ult1: 99.73726%\n",
            "0    13611452\n",
            "1       35857\n",
            "Name: ind_pres_fin_ult1, dtype: int64\n",
            "\n",
            "ind_tjcr_fin_ult1: 95.56113%\n",
            "0    13041523\n",
            "1      605786\n",
            "Name: ind_tjcr_fin_ult1, dtype: int64\n",
            "\n",
            "ind_valo_fin_ult1: 97.43924%\n",
            "0    13297834\n",
            "1      349475\n",
            "Name: ind_valo_fin_ult1, dtype: int64\n",
            "\n",
            "ind_viv_fin_ult1: 99.61523%\n",
            "0    13594798\n",
            "1       52511\n",
            "Name: ind_viv_fin_ult1, dtype: int64\n",
            "\n"
          ],
          "name": "stdout"
        }
      ]
    },
    {
      "cell_type": "code",
      "metadata": {
        "id": "YlqML7qFB2G5"
      },
      "source": [
        "# display the missing values and create the missing value indicator variables for each numeric column.\n",
        "df_numeric = df.select_dtypes(include=[np.number])\n",
        "numeric_cols = df_numeric.columns.values\n",
        "\n",
        "for col in numeric_cols:\n",
        "    missing = df[col].isnull()\n",
        "    num_missing = np.sum(missing)\n",
        "    \n",
        "    if num_missing > 0:  # only display for the columns that have missing values.\n",
        "        print(df[col].isnull())\n",
        "        print('-------------------------------------------------------------')"
      ],
      "execution_count": null,
      "outputs": []
    },
    {
      "cell_type": "markdown",
      "metadata": {
        "id": "_rzvcjyDnYo3"
      },
      "source": [
        "*Tells rows for each feature that has missing values (True) for numeric features*"
      ]
    },
    {
      "cell_type": "code",
      "metadata": {
        "id": "wvArqlrHnvKO",
        "outputId": "f5373cc1-e096-42c3-88d1-ee57dfca0f37"
      },
      "source": [
        "df_numeric = df.select_dtypes(include=[np.number])\n",
        "numeric_cols = df_numeric.columns.values\n",
        "# impute the missing values and create the missing value indicator variables for each numeric column.\n",
        "for col in numeric_cols:\n",
        "    missing = df[col].isnull()\n",
        "    num_missing = np.sum(missing)\n",
        "    \n",
        "    if num_missing > 0:  # only do the imputation for the columns that have missing values.\n",
        "        print('imputing missing values for: {}'.format(col))\n",
        "        df['{}_ismissing'.format(col)] = missing\n",
        "        med = df[col].median()\n",
        "        df[col] = df[col].fillna(med)\n",
        "        print(df[col])\n",
        "        print('-------------------------------------------------------------')"
      ],
      "execution_count": null,
      "outputs": [
        {
          "output_type": "stream",
          "text": [
            "imputing missing values for: ind_nuevo\n",
            "0           0.0\n",
            "1           0.0\n",
            "2           0.0\n",
            "3           0.0\n",
            "4           0.0\n",
            "           ... \n",
            "13647304    0.0\n",
            "13647305    0.0\n",
            "13647306    0.0\n",
            "13647307    0.0\n",
            "13647308    1.0\n",
            "Name: ind_nuevo, Length: 13647309, dtype: float64\n",
            "-------------------------------------------------------------\n",
            "imputing missing values for: indrel\n",
            "0           1.0\n",
            "1           1.0\n",
            "2           1.0\n",
            "3           1.0\n",
            "4           1.0\n",
            "           ... \n",
            "13647304    1.0\n",
            "13647305    1.0\n",
            "13647306    1.0\n",
            "13647307    1.0\n",
            "13647308    1.0\n",
            "Name: indrel, Length: 13647309, dtype: float64\n",
            "-------------------------------------------------------------\n",
            "imputing missing values for: tipodom\n",
            "0           1.0\n",
            "1           1.0\n",
            "2           1.0\n",
            "3           1.0\n",
            "4           1.0\n",
            "           ... \n",
            "13647304    1.0\n",
            "13647305    1.0\n",
            "13647306    1.0\n",
            "13647307    1.0\n",
            "13647308    1.0\n",
            "Name: tipodom, Length: 13647309, dtype: float64\n",
            "-------------------------------------------------------------\n",
            "imputing missing values for: cod_prov\n",
            "0           29.0\n",
            "1           13.0\n",
            "2           13.0\n",
            "3           50.0\n",
            "4           50.0\n",
            "            ... \n",
            "13647304    50.0\n",
            "13647305    26.0\n",
            "13647306    50.0\n",
            "13647307    50.0\n",
            "13647308    28.0\n",
            "Name: cod_prov, Length: 13647309, dtype: float64\n",
            "-------------------------------------------------------------\n",
            "imputing missing values for: ind_actividad_cliente\n",
            "0           1.0\n",
            "1           0.0\n",
            "2           0.0\n",
            "3           0.0\n",
            "4           1.0\n",
            "           ... \n",
            "13647304    0.0\n",
            "13647305    0.0\n",
            "13647306    1.0\n",
            "13647307    0.0\n",
            "13647308    1.0\n",
            "Name: ind_actividad_cliente, Length: 13647309, dtype: float64\n",
            "-------------------------------------------------------------\n",
            "imputing missing values for: renta\n",
            "0            87218.10\n",
            "1            35548.74\n",
            "2           122179.11\n",
            "3           119775.54\n",
            "4           101850.00\n",
            "              ...    \n",
            "13647304     43912.17\n",
            "13647305     23334.99\n",
            "13647306    101850.00\n",
            "13647307    199592.82\n",
            "13647308    101850.00\n",
            "Name: renta, Length: 13647309, dtype: float64\n",
            "-------------------------------------------------------------\n",
            "imputing missing values for: ind_nomina_ult1\n",
            "0           0.0\n",
            "1           0.0\n",
            "2           0.0\n",
            "3           0.0\n",
            "4           0.0\n",
            "           ... \n",
            "13647304    0.0\n",
            "13647305    0.0\n",
            "13647306    0.0\n",
            "13647307    0.0\n",
            "13647308    0.0\n",
            "Name: ind_nomina_ult1, Length: 13647309, dtype: float64\n",
            "-------------------------------------------------------------\n",
            "imputing missing values for: ind_nom_pens_ult1\n",
            "0           0.0\n",
            "1           0.0\n",
            "2           0.0\n",
            "3           0.0\n",
            "4           0.0\n",
            "           ... \n",
            "13647304    0.0\n",
            "13647305    0.0\n",
            "13647306    0.0\n",
            "13647307    0.0\n",
            "13647308    0.0\n",
            "Name: ind_nom_pens_ult1, Length: 13647309, dtype: float64\n",
            "-------------------------------------------------------------\n"
          ],
          "name": "stdout"
        }
      ]
    },
    {
      "cell_type": "markdown",
      "metadata": {
        "id": "VC7N9V0GpNkm"
      },
      "source": [
        "*Here we are using median to fill missing values*"
      ]
    },
    {
      "cell_type": "code",
      "metadata": {
        "id": "SPbWpcRjJAu0",
        "outputId": "a387344e-4f17-43d4-da5b-1b124efaf9b1"
      },
      "source": [
        "# display the missing values and create the missing value indicator variables for each non-numeric column.\n",
        "df_non_numeric = df.select_dtypes(exclude=[np.number])\n",
        "non_numeric_cols = df_non_numeric.columns.values\n",
        "\n",
        "for col in non_numeric_cols:\n",
        "    missing = df[col].isnull()\n",
        "    num_missing = np.sum(missing)\n",
        "    \n",
        "    if num_missing > 0:  # only display for the columns that have missing values.\n",
        "        print(df[col].isnull())\n",
        "        print('-------------------------------------------------------------')"
      ],
      "execution_count": null,
      "outputs": [
        {
          "output_type": "stream",
          "text": [
            "0           False\n",
            "1           False\n",
            "2           False\n",
            "3           False\n",
            "4           False\n",
            "            ...  \n",
            "13647304    False\n",
            "13647305    False\n",
            "13647306    False\n",
            "13647307    False\n",
            "13647308    False\n",
            "Name: ind_empleado, Length: 13647309, dtype: bool\n",
            "-------------------------------------------------------------\n",
            "0           False\n",
            "1           False\n",
            "2           False\n",
            "3           False\n",
            "4           False\n",
            "            ...  \n",
            "13647304    False\n",
            "13647305    False\n",
            "13647306    False\n",
            "13647307    False\n",
            "13647308    False\n",
            "Name: pais_residencia, Length: 13647309, dtype: bool\n",
            "-------------------------------------------------------------\n",
            "0           False\n",
            "1           False\n",
            "2           False\n",
            "3           False\n",
            "4           False\n",
            "            ...  \n",
            "13647304    False\n",
            "13647305    False\n",
            "13647306    False\n",
            "13647307    False\n",
            "13647308    False\n",
            "Name: sexo, Length: 13647309, dtype: bool\n",
            "-------------------------------------------------------------\n",
            "0           False\n",
            "1           False\n",
            "2           False\n",
            "3           False\n",
            "4           False\n",
            "            ...  \n",
            "13647304    False\n",
            "13647305    False\n",
            "13647306    False\n",
            "13647307    False\n",
            "13647308    False\n",
            "Name: fecha_alta, Length: 13647309, dtype: bool\n",
            "-------------------------------------------------------------\n",
            "0           True\n",
            "1           True\n",
            "2           True\n",
            "3           True\n",
            "4           True\n",
            "            ... \n",
            "13647304    True\n",
            "13647305    True\n",
            "13647306    True\n",
            "13647307    True\n",
            "13647308    True\n",
            "Name: ult_fec_cli_1t, Length: 13647309, dtype: bool\n",
            "-------------------------------------------------------------\n",
            "0           False\n",
            "1           False\n",
            "2           False\n",
            "3           False\n",
            "4           False\n",
            "            ...  \n",
            "13647304    False\n",
            "13647305    False\n",
            "13647306    False\n",
            "13647307    False\n",
            "13647308     True\n",
            "Name: indrel_1mes, Length: 13647309, dtype: bool\n",
            "-------------------------------------------------------------\n",
            "0           False\n",
            "1           False\n",
            "2           False\n",
            "3           False\n",
            "4           False\n",
            "            ...  \n",
            "13647304    False\n",
            "13647305    False\n",
            "13647306    False\n",
            "13647307    False\n",
            "13647308     True\n",
            "Name: tiprel_1mes, Length: 13647309, dtype: bool\n",
            "-------------------------------------------------------------\n",
            "0           False\n",
            "1           False\n",
            "2           False\n",
            "3           False\n",
            "4           False\n",
            "            ...  \n",
            "13647304    False\n",
            "13647305    False\n",
            "13647306    False\n",
            "13647307    False\n",
            "13647308    False\n",
            "Name: indresi, Length: 13647309, dtype: bool\n",
            "-------------------------------------------------------------\n",
            "0           False\n",
            "1           False\n",
            "2           False\n",
            "3           False\n",
            "4           False\n",
            "            ...  \n",
            "13647304    False\n",
            "13647305    False\n",
            "13647306    False\n",
            "13647307    False\n",
            "13647308    False\n",
            "Name: indext, Length: 13647309, dtype: bool\n",
            "-------------------------------------------------------------\n",
            "0           True\n",
            "1           True\n",
            "2           True\n",
            "3           True\n",
            "4           True\n",
            "            ... \n",
            "13647304    True\n",
            "13647305    True\n",
            "13647306    True\n",
            "13647307    True\n",
            "13647308    True\n",
            "Name: conyuemp, Length: 13647309, dtype: bool\n",
            "-------------------------------------------------------------\n",
            "0           False\n",
            "1           False\n",
            "2           False\n",
            "3           False\n",
            "4           False\n",
            "            ...  \n",
            "13647304    False\n",
            "13647305    False\n",
            "13647306    False\n",
            "13647307    False\n",
            "13647308     True\n",
            "Name: canal_entrada, Length: 13647309, dtype: bool\n",
            "-------------------------------------------------------------\n",
            "0           False\n",
            "1           False\n",
            "2           False\n",
            "3           False\n",
            "4           False\n",
            "            ...  \n",
            "13647304    False\n",
            "13647305    False\n",
            "13647306    False\n",
            "13647307    False\n",
            "13647308    False\n",
            "Name: indfall, Length: 13647309, dtype: bool\n",
            "-------------------------------------------------------------\n",
            "0           False\n",
            "1           False\n",
            "2           False\n",
            "3           False\n",
            "4           False\n",
            "            ...  \n",
            "13647304    False\n",
            "13647305    False\n",
            "13647306    False\n",
            "13647307    False\n",
            "13647308    False\n",
            "Name: nomprov, Length: 13647309, dtype: bool\n",
            "-------------------------------------------------------------\n",
            "0           False\n",
            "1           False\n",
            "2           False\n",
            "3           False\n",
            "4           False\n",
            "            ...  \n",
            "13647304    False\n",
            "13647305    False\n",
            "13647306    False\n",
            "13647307    False\n",
            "13647308     True\n",
            "Name: segmento, Length: 13647309, dtype: bool\n",
            "-------------------------------------------------------------\n"
          ],
          "name": "stdout"
        }
      ]
    },
    {
      "cell_type": "markdown",
      "metadata": {
        "id": "POn1sJMtqHbw"
      },
      "source": [
        "*Tells rows for each feature that has missing values (True) for non-numeric features*"
      ]
    },
    {
      "cell_type": "code",
      "metadata": {
        "id": "nxK14PaQp645",
        "outputId": "0a94de79-cb41-48a2-8cd6-a1ee195729c6"
      },
      "source": [
        "# impute the missing values and create the missing value indicator variables for each non-numeric column.\n",
        "df_non_numeric = df.select_dtypes(exclude=[np.number])\n",
        "non_numeric_cols = df_non_numeric.columns.values\n",
        "\n",
        "for col in non_numeric_cols:\n",
        "    missing = df[col].isnull()\n",
        "    num_missing = np.sum(missing)\n",
        "    \n",
        "    if num_missing > 0:  # only do the imputation for the columns that have missing values.\n",
        "        print('imputing missing values for: {}'.format(col))\n",
        "        df['{}_ismissing'.format(col)] = missing\n",
        "        \n",
        "        top = df[col].describe()['top'] # impute with the most frequent value.\n",
        "        df[col] = df[col].fillna(top)\n",
        "        print(df[col])\n",
        "        print('-------------------------------------------------------------')"
      ],
      "execution_count": null,
      "outputs": [
        {
          "output_type": "stream",
          "text": [
            "imputing missing values for: ind_empleado\n",
            "0           N\n",
            "1           N\n",
            "2           N\n",
            "3           N\n",
            "4           N\n",
            "           ..\n",
            "13647304    N\n",
            "13647305    N\n",
            "13647306    N\n",
            "13647307    N\n",
            "13647308    N\n",
            "Name: ind_empleado, Length: 13647309, dtype: object\n",
            "-------------------------------------------------------------\n",
            "imputing missing values for: pais_residencia\n",
            "0           ES\n",
            "1           ES\n",
            "2           ES\n",
            "3           ES\n",
            "4           ES\n",
            "            ..\n",
            "13647304    ES\n",
            "13647305    ES\n",
            "13647306    ES\n",
            "13647307    ES\n",
            "13647308    ES\n",
            "Name: pais_residencia, Length: 13647309, dtype: object\n",
            "-------------------------------------------------------------\n",
            "imputing missing values for: sexo\n",
            "0           H\n",
            "1           V\n",
            "2           V\n",
            "3           H\n",
            "4           V\n",
            "           ..\n",
            "13647304    V\n",
            "13647305    V\n",
            "13647306    H\n",
            "13647307    H\n",
            "13647308    H\n",
            "Name: sexo, Length: 13647309, dtype: object\n",
            "-------------------------------------------------------------\n",
            "imputing missing values for: fecha_alta\n",
            "0           2015-01-12\n",
            "1           2012-08-10\n",
            "2           2012-08-10\n",
            "3           2012-08-10\n",
            "4           2012-08-10\n",
            "               ...    \n",
            "13647304    2013-08-14\n",
            "13647305    2013-08-14\n",
            "13647306    2013-08-14\n",
            "13647307    2013-08-14\n",
            "13647308    2016-05-13\n",
            "Name: fecha_alta, Length: 13647309, dtype: object\n",
            "-------------------------------------------------------------\n",
            "imputing missing values for: ult_fec_cli_1t\n",
            "0           2015-12-24\n",
            "1           2015-12-24\n",
            "2           2015-12-24\n",
            "3           2015-12-24\n",
            "4           2015-12-24\n",
            "               ...    \n",
            "13647304    2015-12-24\n",
            "13647305    2015-12-24\n",
            "13647306    2015-12-24\n",
            "13647307    2015-12-24\n",
            "13647308    2015-12-24\n",
            "Name: ult_fec_cli_1t, Length: 13647309, dtype: object\n",
            "-------------------------------------------------------------\n",
            "imputing missing values for: indrel_1mes\n",
            "0           1.0\n",
            "1           1.0\n",
            "2           1.0\n",
            "3           1.0\n",
            "4           1.0\n",
            "           ... \n",
            "13647304      1\n",
            "13647305      1\n",
            "13647306      1\n",
            "13647307    1.0\n",
            "13647308    1.0\n",
            "Name: indrel_1mes, Length: 13647309, dtype: object\n",
            "-------------------------------------------------------------\n",
            "imputing missing values for: tiprel_1mes\n",
            "0           A\n",
            "1           I\n",
            "2           I\n",
            "3           I\n",
            "4           A\n",
            "           ..\n",
            "13647304    I\n",
            "13647305    I\n",
            "13647306    A\n",
            "13647307    I\n",
            "13647308    I\n",
            "Name: tiprel_1mes, Length: 13647309, dtype: object\n",
            "-------------------------------------------------------------\n",
            "imputing missing values for: indresi\n",
            "0           S\n",
            "1           S\n",
            "2           S\n",
            "3           S\n",
            "4           S\n",
            "           ..\n",
            "13647304    S\n",
            "13647305    S\n",
            "13647306    S\n",
            "13647307    S\n",
            "13647308    S\n",
            "Name: indresi, Length: 13647309, dtype: object\n",
            "-------------------------------------------------------------\n",
            "imputing missing values for: indext\n",
            "0           N\n",
            "1           S\n",
            "2           N\n",
            "3           N\n",
            "4           N\n",
            "           ..\n",
            "13647304    N\n",
            "13647305    N\n",
            "13647306    N\n",
            "13647307    N\n",
            "13647308    N\n",
            "Name: indext, Length: 13647309, dtype: object\n",
            "-------------------------------------------------------------\n",
            "imputing missing values for: conyuemp\n",
            "0           N\n",
            "1           N\n",
            "2           N\n",
            "3           N\n",
            "4           N\n",
            "           ..\n",
            "13647304    N\n",
            "13647305    N\n",
            "13647306    N\n",
            "13647307    N\n",
            "13647308    N\n",
            "Name: conyuemp, Length: 13647309, dtype: object\n",
            "-------------------------------------------------------------\n",
            "imputing missing values for: canal_entrada\n",
            "0           KHL\n",
            "1           KHE\n",
            "2           KHE\n",
            "3           KHD\n",
            "4           KHE\n",
            "           ... \n",
            "13647304    KHE\n",
            "13647305    KHE\n",
            "13647306    KHE\n",
            "13647307    KHE\n",
            "13647308    KHE\n",
            "Name: canal_entrada, Length: 13647309, dtype: object\n",
            "-------------------------------------------------------------\n",
            "imputing missing values for: indfall\n",
            "0           N\n",
            "1           N\n",
            "2           N\n",
            "3           N\n",
            "4           N\n",
            "           ..\n",
            "13647304    N\n",
            "13647305    N\n",
            "13647306    N\n",
            "13647307    N\n",
            "13647308    N\n",
            "Name: indfall, Length: 13647309, dtype: object\n",
            "-------------------------------------------------------------\n",
            "imputing missing values for: nomprov\n",
            "0                MALAGA\n",
            "1           CIUDAD REAL\n",
            "2           CIUDAD REAL\n",
            "3              ZARAGOZA\n",
            "4              ZARAGOZA\n",
            "               ...     \n",
            "13647304       ZARAGOZA\n",
            "13647305      RIOJA, LA\n",
            "13647306       ZARAGOZA\n",
            "13647307       ZARAGOZA\n",
            "13647308         MADRID\n",
            "Name: nomprov, Length: 13647309, dtype: object\n",
            "-------------------------------------------------------------\n",
            "imputing missing values for: segmento\n",
            "0            02 - PARTICULARES\n",
            "1           03 - UNIVERSITARIO\n",
            "2           03 - UNIVERSITARIO\n",
            "3           03 - UNIVERSITARIO\n",
            "4           03 - UNIVERSITARIO\n",
            "                   ...        \n",
            "13647304    03 - UNIVERSITARIO\n",
            "13647305    03 - UNIVERSITARIO\n",
            "13647306     02 - PARTICULARES\n",
            "13647307    03 - UNIVERSITARIO\n",
            "13647308     02 - PARTICULARES\n",
            "Name: segmento, Length: 13647309, dtype: object\n",
            "-------------------------------------------------------------\n"
          ],
          "name": "stdout"
        }
      ]
    },
    {
      "cell_type": "markdown",
      "metadata": {
        "id": "0otCV8rmqss-"
      },
      "source": [
        "*Here we are using mode to fill missing values*"
      ]
    },
    {
      "cell_type": "code",
      "metadata": {
        "id": "Zyke1Y4DcOS1",
        "outputId": "be962c51-9af2-4538-e56d-254a0675395c"
      },
      "source": [
        "# display any feature that has 100% missing data\n",
        "for col in df.columns:\n",
        "    pct_missing = np.mean(df[col].isnull())\n",
        "    print('{} - {}%'.format(col, round(pct_missing*100)))"
      ],
      "execution_count": null,
      "outputs": [
        {
          "output_type": "stream",
          "text": [
            "fecha_dato - 0%\n",
            "ncodpers - 0%\n",
            "ind_empleado - 0%\n",
            "pais_residencia - 0%\n",
            "sexo - 0%\n",
            "age - 0%\n",
            "fecha_alta - 0%\n",
            "ind_nuevo - 0%\n",
            "antiguedad - 0%\n",
            "indrel - 0%\n",
            "ult_fec_cli_1t - 0%\n",
            "indrel_1mes - 0%\n",
            "tiprel_1mes - 0%\n",
            "indresi - 0%\n",
            "indext - 0%\n",
            "conyuemp - 0%\n",
            "canal_entrada - 0%\n",
            "indfall - 0%\n",
            "tipodom - 0%\n",
            "cod_prov - 0%\n",
            "nomprov - 0%\n",
            "ind_actividad_cliente - 0%\n",
            "renta - 0%\n",
            "segmento - 0%\n",
            "ind_ahor_fin_ult1 - 0%\n",
            "ind_aval_fin_ult1 - 0%\n",
            "ind_cco_fin_ult1 - 0%\n",
            "ind_cder_fin_ult1 - 0%\n",
            "ind_cno_fin_ult1 - 0%\n",
            "ind_ctju_fin_ult1 - 0%\n",
            "ind_ctma_fin_ult1 - 0%\n",
            "ind_ctop_fin_ult1 - 0%\n",
            "ind_ctpp_fin_ult1 - 0%\n",
            "ind_deco_fin_ult1 - 0%\n",
            "ind_deme_fin_ult1 - 0%\n",
            "ind_dela_fin_ult1 - 0%\n",
            "ind_ecue_fin_ult1 - 0%\n",
            "ind_fond_fin_ult1 - 0%\n",
            "ind_hip_fin_ult1 - 0%\n",
            "ind_plan_fin_ult1 - 0%\n",
            "ind_pres_fin_ult1 - 0%\n",
            "ind_reca_fin_ult1 - 0%\n",
            "ind_tjcr_fin_ult1 - 0%\n",
            "ind_valo_fin_ult1 - 0%\n",
            "ind_viv_fin_ult1 - 0%\n",
            "ind_nomina_ult1 - 0%\n",
            "ind_nom_pens_ult1 - 0%\n",
            "ind_recibo_ult1 - 0%\n",
            "ind_nuevo_ismissing - 0%\n",
            "indrel_ismissing - 0%\n",
            "tipodom_ismissing - 0%\n",
            "cod_prov_ismissing - 0%\n",
            "ind_actividad_cliente_ismissing - 0%\n",
            "renta_ismissing - 0%\n",
            "ind_nomina_ult1_ismissing - 0%\n",
            "ind_nom_pens_ult1_ismissing - 0%\n",
            "ind_empleado_ismissing - 0%\n",
            "pais_residencia_ismissing - 0%\n",
            "sexo_ismissing - 0%\n",
            "fecha_alta_ismissing - 0%\n",
            "ult_fec_cli_1t_ismissing - 0%\n",
            "indrel_1mes_ismissing - 0%\n",
            "tiprel_1mes_ismissing - 0%\n",
            "indresi_ismissing - 0%\n",
            "indext_ismissing - 0%\n",
            "conyuemp_ismissing - 0%\n",
            "canal_entrada_ismissing - 0%\n",
            "indfall_ismissing - 0%\n",
            "nomprov_ismissing - 0%\n",
            "segmento_ismissing - 0%\n"
          ],
          "name": "stdout"
        }
      ]
    },
    {
      "cell_type": "markdown",
      "metadata": {
        "id": "9WY91lhCtRmk"
      },
      "source": [
        "*Showing percentage of missing data per feature.*"
      ]
    },
    {
      "cell_type": "code",
      "metadata": {
        "id": "L88r8OM1iWbc"
      },
      "source": [
        "# delete any feature that has 100% missing data\n",
        "for col in df.columns:\n",
        "    pct_missing = np.mean(df[col].isnull())\n",
        "    percentage = round(pct_missing*100)\n",
        "    if percentage == 100:\n",
        "        del df[col]\n",
        "        print('deleted {} - {}%'.format(col, round(pct_missing*100)))"
      ],
      "execution_count": null,
      "outputs": []
    },
    {
      "cell_type": "markdown",
      "metadata": {
        "id": "UpYZkmSWtlVS"
      },
      "source": [
        "*The above codes shows that we are deleting features with missing data because they have no bearing on the dataset*"
      ]
    },
    {
      "cell_type": "markdown",
      "metadata": {
        "id": "J8W5-BtUkwbJ"
      },
      "source": [
        "### **Exploratory Data Analysis**"
      ]
    },
    {
      "cell_type": "code",
      "metadata": {
        "id": "e9xec3r0zjW1"
      },
      "source": [
        "# change column names\n",
        "df.rename(columns={ 'fecha_dato':'table_partition', 'ncodpers':'customer_code', 'ind_empleado':'employee_index', 'pais_residencia':'customer_country_residence', 'sexo':'gender', 'age':'age', 'fecha_alta':'first_holder_contract_date', 'ind_nuevo':'new_customer_index', 'antiguedad':'customer_seniority', 'indrel':'primary_customer', 'indrel_1mes':'customer_type_beginning_month', 'tiprel_1mes':'customer_relation_type_beginning_month', 'indresi':'residence_index', 'indext':'foreigner_index', 'canal_entrada':'channel_used_to_join', 'indfall':'deceased_index', 'tipodom':'address_type', 'cod_prov':'province_code', 'nomprov':'province_name', 'ind_actividad_cliente':'activity_index', 'renta':'gross_income', 'segmento':'segmentation', 'ind_ahor_fin_ult1':'saving_account', 'ind_aval_fin_ult1':'guarantees', 'ind_cco_fin_ult1':'current_accounts', 'ind_cder_fin_ult1':'derivada_account', 'ind_cno_fin_ult1':'payroll_account', 'ind_ctju_fin_ult1':'junior_account', 'ind_dela_fin_ult1':'long_term_deposits', 'ind_ecue_fin_ult1':'e_acount', 'ind_fond_fin_ult1':'funds', 'ind_hip_fin_ult1':'mortage', 'ind_plan_fin_ult1':'pensions', 'ind_pres_fin_ult1':'loans', 'ind_reca_fin_ult1':'taxes', 'ind_tjcr_fin_ult1':'credit_card', 'ind_valo_fin_ult1':'securities', 'ind_viv_fin_ult1':'home_account', 'ind_nomina_ult1':'payroll', 'ind_nom_pens_ult1':'pensions_2', 'ind_recibo_ult1':'direct_debit',   'ind_ctma_fin_ult1':'medium_term_deposit', 'ind_ctop_fin_ult1':'long_term_deposit', 'ind_ctpp_fin_ult1':'particular_plus_account', 'ind_deco_fin_ult1':'short_term_deposit', 'ind_deme_fin_ult1':'medium_term_deposit_2',   'ind_nuevo_ismissing':'ind_nuevo_ismissing', 'indrel_ismissing':'indrel_ismissing', 'tipodom_ismissing':'tipodom_ismissing','cod_prov_ismissing':'cod_prov_ismissing', 'ind_actividad_cliente_ismissing':'ind_actividad_cliente_ismissing', 'renta_ismissing':'renta_ismissing', 'ind_nomina_ult1_ismissing':'ind_nomina_ult1_ismissing', 'ind_nom_pens_ult1_ismissing':'ind_nom_pens_ult1_ismissing' }, inplace=True)\n"
      ],
      "execution_count": 5,
      "outputs": []
    },
    {
      "cell_type": "markdown",
      "metadata": {
        "id": "WXKMKmDO6BuU"
      },
      "source": [
        "*Here we are changing the column names from Portuguese to English.*"
      ]
    },
    {
      "cell_type": "code",
      "metadata": {
        "colab": {
          "base_uri": "https://localhost:8080/",
          "height": 1000
        },
        "id": "mDA-xuWPlDWW",
        "outputId": "2a4b17d4-0a6e-4c7b-c09c-acd803263e59"
      },
      "source": [
        "# calculate correlation matrix\n",
        "#cols = [\"customer_code\", \"employee_index\", \"sex\", \"age\", \"gross_income\", \"residence_index\"]\n",
        "corr = df.corr()# plot the heatmap\n",
        "plt.figure(figsize=(20,20))\n",
        "sns.heatmap(\n",
        "    corr, \n",
        "    square=True, # make cells square\n",
        "    cbar_kws={'fraction' : 0.01}, # shrink colour bar\n",
        "    cmap='OrRd', # use orange/red colour map\n",
        "    linewidth=1 # space between cells\n",
        ")\n",
        "# sns.heatmap(corr, xticklabels=cols, yticklabels=cols, annot=True, cmap=sns.diverging_palette(220, 20, as_cmap=True))"
      ],
      "execution_count": null,
      "outputs": [
        {
          "output_type": "execute_result",
          "data": {
            "text/plain": [
              "<AxesSubplot:>"
            ]
          },
          "metadata": {
            "tags": []
          },
          "execution_count": 4
        },
        {
          "output_type": "display_data",
          "data": {
            "image/png": "[encoded data removed]",
            "text/plain": [
              "<Figure size 1440x1440 with 2 Axes>"
            ]
          },
          "metadata": {
            "tags": [],
            "needs_background": "light"
          }
        }
      ]
    },
    {
      "cell_type": "markdown",
      "metadata": {
        "id": "R9fMuG0iDv9y"
      },
      "source": [
        "*The graph above shows that there is a strongly positive correlation between all the features in the dataset except for the address type which has no correlation.* "
      ]
    },
    {
      "cell_type": "markdown",
      "metadata": {
        "id": "h2POSBN1E2Fk"
      },
      "source": [
        "### **Univariate Plot**\n",
        "\n"
      ]
    },
    {
      "cell_type": "code",
      "metadata": {
        "id": "mYUZc_jezjW2",
        "outputId": "9f32d78e-c370-45e0-f7a2-a6f3dd7c07b7"
      },
      "source": [
        "sns.countplot(x = 'gender', data = df)"
      ],
      "execution_count": null,
      "outputs": [
        {
          "output_type": "execute_result",
          "data": {
            "text/plain": [
              "<AxesSubplot:xlabel='gender', ylabel='count'>"
            ]
          },
          "metadata": {
            "tags": []
          },
          "execution_count": 34
        },
        {
          "output_type": "display_data",
          "data": {
            "image/png": "[encoded data removed]",
            "text/plain": [
              "<Figure size 432x288 with 1 Axes>"
            ]
          },
          "metadata": {
            "tags": [],
            "needs_background": "light"
          }
        }
      ]
    },
    {
      "cell_type": "markdown",
      "metadata": {
        "id": "r1tXX7lrEtVG"
      },
      "source": [
        "*From the graph above there are more females who has accounts than males.*"
      ]
    },
    {
      "cell_type": "code",
      "metadata": {
        "id": "ZVlcBfSazjW2"
      },
      "source": [
        "# replace NA value in age with 0\n",
        "df['age'] = df['age'].replace({' NA': np.nan})\n",
        "df['age'] = df['age'].replace({' ': np.nan})\n",
        "df['age'] = df['age'].fillna(0)\n",
        "df[\"age\"] = pd.to_numeric(df[\"age\"])\n",
        "\n",
        "df['gross_income'] = df['gross_income'].replace({'nan': np.nan})\n",
        "df['gross_income'] = df['gross_income'].fillna(0)\n",
        "df[\"gross_income\"] = pd.to_numeric(df[\"gross_income\"])"
      ],
      "execution_count": null,
      "outputs": []
    },
    {
      "cell_type": "code",
      "metadata": {
        "id": "vDId3UDX1s__",
        "outputId": "8dbee649-0057-44c3-cd42-cd17803ba0f3"
      },
      "source": [
        "df.plot(kind='scatter', x='age', y='gross_income')"
      ],
      "execution_count": null,
      "outputs": [
        {
          "output_type": "execute_result",
          "data": {
            "text/plain": [
              "<AxesSubplot:xlabel='age', ylabel='gross_income'>"
            ]
          },
          "metadata": {
            "tags": []
          },
          "execution_count": 13
        },
        {
          "output_type": "display_data",
          "data": {
            "image/png": "[encoded data removed]",
            "text/plain": [
              "<Figure size 432x288 with 1 Axes>"
            ]
          },
          "metadata": {
            "tags": [],
            "needs_background": "light"
          }
        }
      ]
    },
    {
      "cell_type": "markdown",
      "metadata": {
        "id": "g3F4fPR61s__"
      },
      "source": [
        "*From the graph above shows the correlation between age groups and gross income.*"
      ]
    },
    {
      "cell_type": "code",
      "metadata": {
        "id": "cUSHu9hVzjW2",
        "scrolled": true,
        "outputId": "5c60803d-4a67-4399-af5e-f40e42a1721c"
      },
      "source": [
        "plt.figure(figsize=(20,10))\n",
        "barplot = sns.countplot(x = 'province_name', data = df)\n",
        "plt.xticks(rotation = 90)\n",
        "plt.show()"
      ],
      "execution_count": null,
      "outputs": [
        {
          "output_type": "display_data",
          "data": {
            "image/png": "[encoded data removed]",
            "text/plain": [
              "<Figure size 1440x720 with 1 Axes>"
            ]
          },
          "metadata": {
            "tags": [],
            "needs_background": "light"
          }
        }
      ]
    },
    {
      "cell_type": "markdown",
      "metadata": {
        "id": "y6ittPwzMY_E"
      },
      "source": [
        "*The graph above shows the number of customers in each province.*"
      ]
    },
    {
      "cell_type": "code",
      "metadata": {
        "id": "xljjMWRLzjW2",
        "outputId": "cd27a736-55dc-4a41-c798-3a98a5e30076"
      },
      "source": [
        "plt.figure(figsize=(20,10))\n",
        "barplot = sns.countplot(x = 'segmentation', data = df)\n",
        "plt.xticks(rotation = 90)\n",
        "plt.show()"
      ],
      "execution_count": null,
      "outputs": [
        {
          "output_type": "display_data",
          "data": {
            "image/png": "[encoded data removed]",
            "text/plain": [
              "<Figure size 1440x720 with 1 Axes>"
            ]
          },
          "metadata": {
            "tags": [],
            "needs_background": "light"
          }
        }
      ]
    },
    {
      "cell_type": "markdown",
      "metadata": {
        "id": "5NtxP6UQMr0U"
      },
      "source": [
        "*The graph above shows that individuals(02 - PARTICULARES) has the highest amount of customer segmentation in the dataset.*"
      ]
    },
    {
      "cell_type": "code",
      "metadata": {
        "id": "_RrN3RA0zjW3",
        "outputId": "053135f5-621a-4cc9-ee15-2357e63001a6"
      },
      "source": [
        "plt.figure(figsize=(20,10))\n",
        "barplot = sns.countplot(x = 'residence_index', data = df)\n",
        "plt.xticks(rotation = 90)\n",
        "plt.show()"
      ],
      "execution_count": null,
      "outputs": [
        {
          "output_type": "display_data",
          "data": {
            "image/png": "[encoded data removed]",
            "text/plain": [
              "<Figure size 1440x720 with 1 Axes>"
            ]
          },
          "metadata": {
            "tags": [],
            "needs_background": "light"
          }
        }
      ]
    },
    {
      "cell_type": "markdown",
      "metadata": {
        "id": "A4pJ7jcSODKh"
      },
      "source": [
        "*The gragh above shows that the majority of the customers(reseidence) live in the same country as the bank.* \n",
        "\n"
      ]
    },
    {
      "cell_type": "code",
      "metadata": {
        "id": "05MHpbg_zjW3",
        "outputId": "02490208-681b-4826-9336-0673f72ad900"
      },
      "source": [
        "plt.figure(figsize=(20,10))\n",
        "barplot = sns.countplot(x = 'foreigner_index', data = df)\n",
        "plt.xticks(rotation = 90)\n",
        "plt.show()"
      ],
      "execution_count": null,
      "outputs": [
        {
          "output_type": "display_data",
          "data": {
            "image/png": "[encoded data removed]",
            "text/plain": [
              "<Figure size 1440x720 with 1 Axes>"
            ]
          },
          "metadata": {
            "tags": [],
            "needs_background": "light"
          }
        }
      ]
    },
    {
      "cell_type": "markdown",
      "metadata": {
        "id": "elPpkSahOxyB"
      },
      "source": [
        "*The graph above shows that majority of the foreigner have banks outside of the country.*"
      ]
    },
    {
      "cell_type": "code",
      "metadata": {
        "id": "jtE0Y094zjW3",
        "outputId": "8bef4ffd-502d-4db7-bddd-04b4a0640667"
      },
      "source": [
        "plt.figure(figsize=(20,10))\n",
        "barplot = sns.countplot(x = 'activity_index', data = df)\n",
        "plt.xticks(rotation = 90)\n",
        "plt.show()"
      ],
      "execution_count": null,
      "outputs": [
        {
          "output_type": "display_data",
          "data": {
            "image/png": "[encoded data removed]",
            "text/plain": [
              "<Figure size 1440x720 with 1 Axes>"
            ]
          },
          "metadata": {
            "tags": [],
            "needs_background": "light"
          }
        }
      ]
    },
    {
      "cell_type": "markdown",
      "metadata": {
        "id": "MIB7WlqcPxbm"
      },
      "source": [
        "*The graph above shows that there are more inactive customers than there are active customers.*"
      ]
    },
    {
      "cell_type": "code",
      "metadata": {
        "id": "FeUOfMnYzjW4",
        "outputId": "7d6f56b5-dda1-4626-c90f-3ee93f0d68cc"
      },
      "source": [
        "plt.figure(figsize=(20,10))\n",
        "barplot = sns.countplot(x = 'channel_used_to_join', data = df, order=pd.value_counts(df['channel_used_to_join']).iloc[:10].index)\n",
        "plt.xticks(rotation = 90)\n",
        "plt.show()"
      ],
      "execution_count": null,
      "outputs": [
        {
          "output_type": "display_data",
          "data": {
            "image/png": "[encoded data removed]",
            "text/plain": [
              "<Figure size 1440x720 with 1 Axes>"
            ]
          },
          "metadata": {
            "tags": [],
            "needs_background": "light"
          }
        }
      ]
    },
    {
      "cell_type": "markdown",
      "metadata": {
        "id": "DTV3L9EcQUmj"
      },
      "source": [
        "*The graph above shows the top 10 channels that the customers used to joined the bank.*"
      ]
    },
    {
      "cell_type": "code",
      "metadata": {
        "id": "4ZeVlJ14zjXf"
      },
      "source": [
        "# replace NA value in age with 0\n",
        "df['age'] = df['age'].replace({' NA': np.nan})\n",
        "df['age'] = df['age'].replace({' ': np.nan})\n",
        "df['age'] = df['age'].fillna(0)\n",
        "df['age'].astype(str).astype(float).astype(int)"
      ],
      "execution_count": null,
      "outputs": []
    },
    {
      "cell_type": "code",
      "metadata": {
        "id": "d-87-nuAzjXg",
        "colab": {
          "base_uri": "https://localhost:8080/",
          "height": 351
        },
        "outputId": "0651f2b2-e4a0-4cd8-b884-95823ab20cb0"
      },
      "source": [
        "sns.distplot(df['age'])"
      ],
      "execution_count": 7,
      "outputs": [
        {
          "output_type": "stream",
          "text": [
            "/usr/local/lib/python3.7/dist-packages/seaborn/distributions.py:2557: FutureWarning: `distplot` is a deprecated function and will be removed in a future version. Please adapt your code to use either `displot` (a figure-level function with similar flexibility) or `histplot` (an axes-level function for histograms).\n",
            "  warnings.warn(msg, FutureWarning)\n"
          ],
          "name": "stderr"
        },
        {
          "output_type": "execute_result",
          "data": {
            "text/plain": [
              "<matplotlib.axes._subplots.AxesSubplot at 0x7f3ac7f5cb90>"
            ]
          },
          "metadata": {
            "tags": []
          },
          "execution_count": 7
        },
        {
          "output_type": "display_data",
          "data": {
            "image/png": "[encoded data removed]",
            "text/plain": [
              "<Figure size 432x288 with 1 Axes>"
            ]
          },
          "metadata": {
            "tags": [],
            "needs_background": "light"
          }
        }
      ]
    },
    {
      "cell_type": "markdown",
      "metadata": {
        "id": "ohcEJJE4Rw1K"
      },
      "source": [
        "*From the graph above, it can be noted that majority of the customers are from their 20s to late 40s.*"
      ]
    },
    {
      "cell_type": "code",
      "metadata": {
        "id": "CvJPIOD7zjXg",
        "outputId": "5147f06e-b803-44d5-c2ed-6304f805db09"
      },
      "source": [
        "df.plot.scatter(x = 'gender', y = 'gross_income')"
      ],
      "execution_count": null,
      "outputs": [
        {
          "output_type": "display_data",
          "data": {
            "text/plain": [
              "<Figure size 1440x720 with 0 Axes>"
            ]
          },
          "metadata": {
            "tags": []
          }
        },
        {
          "output_type": "display_data",
          "data": {
            "image/png": "[encoded data removed]",
            "text/plain": [
              "<Figure size 432x288 with 1 Axes>"
            ]
          },
          "metadata": {
            "tags": [],
            "needs_background": "light"
          }
        }
      ]
    },
    {
      "cell_type": "markdown",
      "metadata": {
        "id": "yFEO4BAHSR9f"
      },
      "source": [
        "*The graph above shows the income diversity of both male and female in the dataset*"
      ]
    },
    {
      "cell_type": "code",
      "metadata": {
        "id": "Jout3pTdzjXg",
        "outputId": "4865ca7b-f301-471e-df51-776538eb7a0d"
      },
      "source": [
        "fig = plt.figure()\n",
        "ax = fig.add_axes([0,0,1,1])\n",
        "accounts = ['saving_account',\n",
        "         'guarantees',\n",
        "         'current_accounts',\n",
        "         'derivada_account',\n",
        "         'payroll_account',\n",
        "         'junior_account',\n",
        "         'medium_term_deposit',\n",
        "         'medium_term_deposit_2',\n",
        "         'long_term_deposit',\n",
        "         'particular_plus_account',\n",
        "         'short_term_deposit',\n",
        "         'e_acount',\n",
        "         'funds',\n",
        "         'mortage',\n",
        "         'pensions',\n",
        "         'pensions_2',\n",
        "         'loans',\n",
        "         'taxes',\n",
        "         'credit_card',\n",
        "         'securities',\n",
        "         'home_account',\n",
        "         'payroll',\n",
        "         'direct_debit']\n",
        "active = [df['saving_account'].value_counts()[1],\n",
        "            df['guarantees'].value_counts()[1],\n",
        "            df['current_accounts'].value_counts()[1],\n",
        "            df['derivada_account'].value_counts()[1],\n",
        "            df['payroll_account'].value_counts()[1],\n",
        "            df['junior_account'].value_counts()[1],\n",
        "            df['medium_term_deposit'].value_counts()[1],\n",
        "            df['medium_term_deposit_2'].value_counts()[1],\n",
        "            df['long_term_deposit'].value_counts()[1],\n",
        "            df['particular_plus_account'].value_counts()[1],\n",
        "            df['short_term_deposit'].value_counts()[1],\n",
        "            df['e_acount'].value_counts()[1],\n",
        "            df['funds'].value_counts()[1],\n",
        "            df['mortage'].value_counts()[1],\n",
        "            df['pensions'].value_counts()[1],\n",
        "            df['pensions_2'].value_counts()[1],\n",
        "            df['loans'].value_counts()[1],\n",
        "            df['taxes'].value_counts()[1],\n",
        "            df['credit_card'].value_counts()[1],\n",
        "            df['securities'].value_counts()[1],\n",
        "            df['home_account'].value_counts()[1],\n",
        "            df['payroll'].value_counts()[1],\n",
        "            df['direct_debit'].value_counts()[1]]\n",
        "ax.bar(accounts,active)\n",
        "plt.xticks(rotation = 90)\n",
        "plt.show()"
      ],
      "execution_count": null,
      "outputs": [
        {
          "output_type": "display_data",
          "data": {
            "image/png": "[encoded data removed]",
            "text/plain": [
              "<Figure size 432x288 with 1 Axes>"
            ]
          },
          "metadata": {
            "tags": [],
            "needs_background": "light"
          }
        }
      ]
    },
    {
      "cell_type": "markdown",
      "metadata": {
        "id": "jVxFI3psTgJZ"
      },
      "source": [
        "*The graph above shows the amount of customers per account type.*"
      ]
    },
    {
      "cell_type": "code",
      "metadata": {
        "id": "AlDeW6fPzjXh",
        "outputId": "a167f51a-7604-4c78-95ca-354e96f55ccb"
      },
      "source": [
        "# How many customers have more than one account \n",
        "df['multiple_accounts'] = ['YES' if x > 1 else 'N0' for x in np.sum(df[['saving_account', 'guarantees', 'current_accounts', 'derivada_account', 'payroll_account', 'junior_account', 'medium_term_deposit', 'medium_term_deposit_2', 'long_term_deposit', 'particular_plus_account', 'short_term_deposit', 'e_acount', 'funds', 'mortage', 'pensions', 'pensions_2', 'loans', 'taxes', 'credit_card', 'home_account', 'payroll', 'direct_debit']].values == 1, 1)]\n",
        "sns.countplot(x = 'multiple_accounts', data = df)\n",
        "df['multiple_accounts'].value_counts()"
      ],
      "execution_count": null,
      "outputs": [
        {
          "output_type": "execute_result",
          "data": {
            "text/plain": [
              "N0     9922900\n",
              "YES    3724409\n",
              "Name: multiple_accounts, dtype: int64"
            ]
          },
          "metadata": {
            "tags": []
          },
          "execution_count": 91
        },
        {
          "output_type": "display_data",
          "data": {
            "image/png": "[encoded data removed]",
            "text/plain": [
              "<Figure size 432x288 with 1 Axes>"
            ]
          },
          "metadata": {
            "tags": [],
            "needs_background": "light"
          }
        }
      ]
    },
    {
      "cell_type": "markdown",
      "metadata": {
        "id": "LhIeA0APTz_D"
      },
      "source": [
        "*The graph above shows the number of customers that has more than one account type.*"
      ]
    },
    {
      "cell_type": "markdown",
      "metadata": {
        "id": "XuUqhD5_zyu0"
      },
      "source": [
        "**Final Recommendation:**\n",
        "\n",
        "Based on the exploratory data analysis ran, below are some recommendations that the analyst team at ABC analytics came up with to best help XYZ credit union use cross selling with existing customers.\n",
        "\n",
        "* Use the mediums that the majority of customer sign up with to retarget them. Do ads that properly explain the services that XYZ credit union offers and how they will benefit an old client.\n",
        "\n",
        "* Customer who currently only have one account – we recommend figuring out their needs based on age, income and other criteria then calling them for an appointment to suggest a personalized financial plan that is specifically suited for them. This will let XYZ credit union customers know that they are paying unique attention to their needs as clients.\n",
        "\n",
        "* A complementary service or as we know it ‘Bundle sales’ can be provided for customers who add a new type of account. This helps the customers who are already a client to understand that things are changing and as such new customer are currently buying “x”\n",
        "\n",
        "* With the exploratory data analysis completed XYZ credit union can also use a data-driven suggestion to cross-sell. Like, for example; if customers are always coming into the bank trying to make payments or do transaction, it can be suggested that they download the app for ease of going back and forth. Also, if a 65-year-old customer updated her pension to say she has a new grand baby; we can suggest that she opens a saving account for the new baby"
      ]
    }
  ]
}